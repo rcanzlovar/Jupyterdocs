{
 "cells": [
  {
   "cell_type": "code",
   "execution_count": 34,
   "metadata": {},
   "outputs": [],
   "source": [
    "import pandas as pd \n",
    "import numpy as np\n",
    "import matplotlib.pyplot as plt\n",
    "from pandas import DataFrame\n"
   ]
  },
  {
   "cell_type": "code",
   "execution_count": 35,
   "metadata": {},
   "outputs": [
    {
     "name": "stdout",
     "output_type": "stream",
     "text": [
      "--2020-04-18 14:46:00--  https://raw.githubusercontent.com/nytimes/covid-19-data/master/us-counties.csv\n",
      "Resolving raw.githubusercontent.com (raw.githubusercontent.com)... 151.101.68.133\n",
      "Connecting to raw.githubusercontent.com (raw.githubusercontent.com)|151.101.68.133|:443... connected.\n",
      "HTTP request sent, awaiting response... 200 OK\n",
      "Length: 2635462 (2.5M) [text/plain]\n",
      "Saving to: ‘us-counties.csv’\n",
      "\n",
      "us-counties.csv     100%[===================>]   2.51M  --.-KB/s    in 0.09s   \n",
      "\n",
      "2020-04-18 14:46:01 (28.9 MB/s) - ‘us-counties.csv’ saved [2635462/2635462]\n",
      "\n"
     ]
    }
   ],
   "source": [
    "# grab the latest data... \n",
    "!   rm us-counties.csv*\n",
    "!wget 'https://raw.githubusercontent.com/nytimes/covid-19-data/master/us-counties.csv'\n"
   ]
  },
  {
   "cell_type": "code",
   "execution_count": 36,
   "metadata": {},
   "outputs": [
    {
     "data": {
      "text/plain": [
       "(67456, 6)"
      ]
     },
     "execution_count": 36,
     "metadata": {},
     "output_type": "execute_result"
    }
   ],
   "source": [
    "# pull it into a matrix\n",
    "covids = pd.read_csv(\"us-counties.csv\")\n",
    "covids.shape"
   ]
  },
  {
   "cell_type": "code",
   "execution_count": 56,
   "metadata": {
    "scrolled": true
   },
   "outputs": [
    {
     "name": "stdout",
     "output_type": "stream",
     "text": [
      "39\n",
      "length =  39 39\n",
      "39\n",
      "there\n",
      "39\n",
      "length =  39 39\n",
      "39\n",
      "there\n"
     ]
    },
    {
     "name": "stderr",
     "output_type": "stream",
     "text": [
      "/home/rca/.local/lib/python3.6/site-packages/scipy-1.3.3-py3.6-linux-aarch64.egg/scipy/optimize/minpack.py:795: OptimizeWarning: Covariance of the parameters could not be estimated\n",
      "  category=OptimizeWarning)\n",
      "/home/rca/.local/lib/python3.6/site-packages/scipy-1.3.3-py3.6-linux-aarch64.egg/scipy/optimize/minpack.py:795: OptimizeWarning: Covariance of the parameters could not be estimated\n",
      "  category=OptimizeWarning)\n"
     ]
    },
    {
     "name": "stdout",
     "output_type": "stream",
     "text": [
      "37\n",
      "length =  37 37\n",
      "37\n",
      "there\n",
      "35\n",
      "length =  35 35\n",
      "35\n",
      "there\n"
     ]
    },
    {
     "name": "stderr",
     "output_type": "stream",
     "text": [
      "/home/rca/.local/lib/python3.6/site-packages/scipy-1.3.3-py3.6-linux-aarch64.egg/scipy/optimize/minpack.py:795: OptimizeWarning: Covariance of the parameters could not be estimated\n",
      "  category=OptimizeWarning)\n",
      "/home/rca/.local/lib/python3.6/site-packages/scipy-1.3.3-py3.6-linux-aarch64.egg/scipy/optimize/minpack.py:795: OptimizeWarning: Covariance of the parameters could not be estimated\n",
      "  category=OptimizeWarning)\n"
     ]
    },
    {
     "name": "stdout",
     "output_type": "stream",
     "text": [
      "43\n",
      "length =  43 43\n",
      "43\n",
      "there\n",
      "44\n",
      "length =  44 44\n",
      "44\n",
      "there\n"
     ]
    },
    {
     "name": "stderr",
     "output_type": "stream",
     "text": [
      "/home/rca/.local/lib/python3.6/site-packages/scipy-1.3.3-py3.6-linux-aarch64.egg/scipy/optimize/minpack.py:795: OptimizeWarning: Covariance of the parameters could not be estimated\n",
      "  category=OptimizeWarning)\n",
      "/home/rca/.local/lib/python3.6/site-packages/scipy-1.3.3-py3.6-linux-aarch64.egg/scipy/optimize/minpack.py:795: OptimizeWarning: Covariance of the parameters could not be estimated\n",
      "  category=OptimizeWarning)\n"
     ]
    },
    {
     "name": "stdout",
     "output_type": "stream",
     "text": [
      "76\n",
      "length =  76 76\n",
      "76\n",
      "there\n"
     ]
    },
    {
     "name": "stderr",
     "output_type": "stream",
     "text": [
      "/home/rca/.local/lib/python3.6/site-packages/scipy-1.3.3-py3.6-linux-aarch64.egg/scipy/optimize/minpack.py:795: OptimizeWarning: Covariance of the parameters could not be estimated\n",
      "  category=OptimizeWarning)\n"
     ]
    },
    {
     "data": {
      "image/png": "[encoded data removed]",
      "text/plain": [
       "<Figure size 432x288 with 1 Axes>"
      ]
     },
     "metadata": {},
     "output_type": "display_data"
    }
   ],
   "source": [
    "# Make it searchable\n",
    "df = DataFrame(covids, \n",
    "               columns = ['date', \n",
    "                          'county', \n",
    "                          'state', \n",
    "                          'cases', \n",
    "                          'deaths'])\n",
    "\n",
    "df['date'] = pd.to_datetime(df['date'], errors='coerce')\n",
    "\n",
    "\n",
    "# added states because of ambiguous Jefferson and Wayne\n",
    "counties = [\n",
    "    ['Oakland','Michigan'],\n",
    "    ['Wayne','Michigan'],\n",
    "    ['Adams','Colorado'],\n",
    "    ['Boulder','Colorado'],\n",
    "    ['Denver','Colorado'],\n",
    "    ['Jefferson','Colorado'],\n",
    "    ['San Francisco','California']\n",
    "]\n",
    "count = 0\n",
    "from scipy.optimize import curve_fit\n",
    "def func(x, a, b, c):\n",
    "    return a * np.exp(-b * x) + c\n",
    "\n",
    "for county, state in counties:\n",
    "    plt.clf()\n",
    "    #Select by state.\n",
    "    df1= df.loc[df['state'] == state ]\n",
    "    # this grabs only the ones that have the county field set to the \n",
    "    # value of county variable\n",
    "    select_county= df1.loc[df1['county'] == county ]\n",
    "    print (len(select_county))\n",
    "    \n",
    "    #select_county['new_col'] = range(1, len(select_county) + 1)\n",
    "    #xdata = select_county['new_col']\n",
    "    \n",
    "    ydata = select_county['deaths']\n",
    "    xdata = range(1, len(ydata) + 1)\n",
    "    # xdata now has 1-length of x \n",
    "    \n",
    "    \n",
    "    plt.plot(xdata, ydata, 'b-', label='data')\n",
    "    plt.ylabel('deaths' + county)\n",
    "    plt.show\n",
    "\n",
    "    popt, pcov = curve_fit(func, xdata, ydata)\n",
    "\n",
    "    #    select_county.plot(x='date',\n",
    "#                       y='deaths',\n",
    "#                       title=county + \" County, \" + state)\n",
    "    \n",
    "       "
   ]
  },
  {
   "cell_type": "code",
   "execution_count": null,
   "metadata": {},
   "outputs": [],
   "source": []
  }
 ],
 "metadata": {
  "kernelspec": {
   "display_name": "Python 3",
   "language": "python",
   "name": "python3"
  },
  "language_info": {
   "codemirror_mode": {
    "name": "ipython",
    "version": 3
   },
   "file_extension": ".py",
   "mimetype": "text/x-python",
   "name": "python",
   "nbconvert_exporter": "python",
   "pygments_lexer": "ipython3",
   "version": "3.6.9"
  }
 },
 "nbformat": 4,
 "nbformat_minor": 4
}
