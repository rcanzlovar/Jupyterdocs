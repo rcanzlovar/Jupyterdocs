{
  "nbformat": 4,
  "nbformat_minor": 0,
  "metadata": {
    "colab": {
      "name": "colab_00_introduction.ipynb",
      "provenance": [],
      "collapsed_sections": [],
      "include_colab_link": true
    },
    "kernelspec": {
      "display_name": "Python 2",
      "language": "python",
      "name": "python2"
    },
    "accelerator": "GPU"
  },
  "cells": [
    {
      "cell_type": "markdown",
      "metadata": {
        "id": "view-in-github",
        "colab_type": "text"
      },
      "source": [
        "<a href=\"https://colab.research.google.com/github/rcanzlovar/Jupyterdocs/blob/master/colab_00_introduction.ipynb\" target=\"_parent\"><img src=\"https://colab.research.google.com/assets/colab-badge.svg\" alt=\"Open In Colab\"/></a>"
      ]
    },
    {
      "metadata": {
        "id": "mKpwWFCYGFAU"
      },
      "cell_type": "markdown",
      "source": [
        "## Collaboratory Introduction\n",
        "Collaboratory is essentially jupyter notebook hosted by Google cloud machines. It comes with everyday python packages already installed, like numpy."
      ]
    },
    {
      "metadata": {
        "id": "kLyxfnIqGD6D"
      },
      "cell_type": "code",
      "source": [
        "import numpy as np"
      ],
      "execution_count": null,
      "outputs": []
    },
    {
      "metadata": {
        "id": "CQHcvs-jGtdi"
      },
      "cell_type": "markdown",
      "source": [
        "As it's google product, you can expect tensorflow :)"
      ]
    },
    {
      "metadata": {
        "id": "cX9Aa7nKGy5y"
      },
      "cell_type": "code",
      "source": [
        "import tensorflow as tf"
      ],
      "execution_count": null,
      "outputs": []
    },
    {
      "metadata": {
        "id": "7mnq8h-hG16N"
      },
      "cell_type": "markdown",
      "source": [
        "## Enabling GPU\n",
        "What's really amazing about collaboratory (or Google's generousity) is that there's also GPU option available.\n",
        "\n",
        "Follow on the collaboratory menu tabs, \"Runtime\" => \"Change runtime type\".\n",
        "\n",
        "<img src=\"http://deeplearnphysics.org/Blog/imgs/2018-03-02-Collab-00-img00.png\" width=\"50%\">\n",
        "\n",
        "### Choosing Runtime type\n",
        "Then you should see a pop-up where you can choose GPU.\n",
        "\n",
        "<img src=\"http://deeplearnphysics.org/Blog/imgs/2018-03-02-Collab-00-img01.png\" width=\"30%\"> run\n",
        "\n",
        "After you change your runtime, your runtime should automatically restart (which means information from executed cells disappear). ma\n",
        "\n",
        "### nvidia-smi\n",
        "If you own GPU you may be familiar with `nvidia-smi`, NVIDIA binary to print out gpu's utilization summary.\n",
        "\n",
        "`nvidia-smi` is not available by default but it is just a symbolic link away"
      ]
    },
    {
      "metadata": {
        "id": "hauEP36SOK6d",
        "colab": {
          "base_uri": "https://localhost:8080/"
        },
        "outputId": "aadc4e7d-b1a0-4273-b456-9af60d6fe660"
      },
      "cell_type": "code",
      "source": [
        "!ln -sf /opt/bin/nvidia-smi /usr/bin/nvidia-smi\n",
        "import subprocess\n",
        "print(subprocess.getoutput('nvidia-smi'))"
      ],
      "execution_count": 4,
      "outputs": [
        {
          "output_type": "stream",
          "name": "stdout",
          "text": [
            "Tue May  3 02:33:50 2022       \n",
            "+-----------------------------------------------------------------------------+\n",
            "| NVIDIA-SMI 460.32.03    Driver Version: 460.32.03    CUDA Version: 11.2     |\n",
            "|-------------------------------+----------------------+----------------------+\n",
            "| GPU  Name        Persistence-M| Bus-Id        Disp.A | Volatile Uncorr. ECC |\n",
            "| Fan  Temp  Perf  Pwr:Usage/Cap|         Memory-Usage | GPU-Util  Compute M. |\n",
            "|                               |                      |               MIG M. |\n",
            "|===============================+======================+======================|\n",
            "|   0  Tesla K80           Off  | 00000000:00:04.0 Off |                    0 |\n",
            "| N/A   72C    P8    33W / 149W |      0MiB / 11441MiB |      0%      Default |\n",
            "|                               |                      |                  N/A |\n",
            "+-------------------------------+----------------------+----------------------+\n",
            "                                                                               \n",
            "+-----------------------------------------------------------------------------+\n",
            "| Processes:                                                                  |\n",
            "|  GPU   GI   CI        PID   Type   Process name                  GPU Memory |\n",
            "|        ID   ID                                                   Usage      |\n",
            "|=============================================================================|\n",
            "|  No running processes found                                                 |\n",
            "+-----------------------------------------------------------------------------+\n"
          ]
        }
      ]
    },
    {
      "metadata": {
        "id": "K5o0gXSmOVHX"
      },
      "cell_type": "markdown",
      "source": [
        "Violla! I got K80 GPU w/ 12GB memory (thanks Google!).  \n",
        "\n",
        "Now if you want to acquire values in this summary text, youl probably want something else like `gputi`.\n",
        "\n",
        "Next section demonstrates how."
      ]
    },
    {
      "metadata": {
        "id": "TJh0jGe2Ncl6"
      },
      "cell_type": "markdown",
      "source": [
        "## Pip: getting external packages\n",
        "Just like your own notebook, you can execute pip to locally install packages.\n",
        "\n",
        "Let's play by installing a few packages to print out our process memory usage..."
      ]
    },
    {
      "metadata": {
        "id": "V1wWpNHzGD_g",
        "colab": {
          "base_uri": "https://localhost:8080/"
        },
        "outputId": "342a1203-cedd-4b22-a10f-398a37076fdf"
      },
      "cell_type": "code",
      "source": [
        "!pip install gputil\n",
        "!pip install psutil\n",
        "!pip install humanize"
      ],
      "execution_count": 5,
      "outputs": [
        {
          "output_type": "stream",
          "name": "stdout",
          "text": [
            "Collecting gputil\n",
            "  Downloading GPUtil-1.4.0.tar.gz (5.5 kB)\n",
            "Building wheels for collected packages: gputil\n",
            "  Building wheel for gputil (setup.py) ... \u001b[?25l\u001b[?25hdone\n",
            "  Created wheel for gputil: filename=GPUtil-1.4.0-py3-none-any.whl size=7411 sha256=e0a7a02aa0ba29e69695fc9ecd170ff47a9761d5005cbe84dc7f709f3cdba683\n",
            "  Stored in directory: /root/.cache/pip/wheels/6e/f8/83/534c52482d6da64622ddbf72cd93c35d2ef2881b78fd08ff0c\n",
            "Successfully built gputil\n",
            "Installing collected packages: gputil\n",
            "Successfully installed gputil-1.4.0\n",
            "Requirement already satisfied: psutil in /usr/local/lib/python3.7/dist-packages (5.4.8)\n",
            "Requirement already satisfied: humanize in /usr/local/lib/python3.7/dist-packages (0.5.1)\n"
          ]
        }
      ]
    },
    {
      "metadata": {
        "id": "0trsNmJyQt_I"
      },
      "cell_type": "markdown",
      "source": [
        "Well, as you can see, I already have them installed. \n",
        "\n",
        "But you should see installation log if you have never done it yet.\n",
        "\n",
        "Now `gputil`, `psutil`, and `humanize` are all availsle. \n",
        "\n",
        "Here's a simple function to print out memory usage on cpu and gpu."
      ]
    },
    {
      "metadata": {
        "id": "vSUyw1sgPtM8",
        "colab": {
          "base_uri": "https://localhost:8080/"
        },
        "outputId": "37295db9-3054-47c1-b367-092b39239b82"
      },
      "cell_type": "code",
      "source": [
        "# Import packages\n",
        "import os,sys,humanize,psutil,GPUtil\n",
        "\n",
        "# Define function\n",
        "def mem_report():\n",
        "  print(\"CPU RAM Free: \" + humanize.naturalsize( psutil.virtual_memory().available ))\n",
        "  \n",
        "  GPUs = GPUtil.getGPUs()\n",
        "  for i, gpu in enumerate(GPUs):\n",
        "    print('GPU {:d} ... Mem Free: {:.0f}MB / {:.0f}MB | Utilization {:3.0f}%'.format(i, gpu.memoryFree, gpu.memoryTotal, gpu.memoryUtil*100))\n",
        "    \n",
        "# Execute function\n",
        "mem_report()"
      ],
      "execution_count": 6,
      "outputs": [
        {
          "output_type": "stream",
          "name": "stdout",
          "text": [
            "CPU RAM Free: 12.7 GB\n",
            "GPU 0 ... Mem Free: 11441MB / 11441MB | Utilization   0%\n"
          ]
        }
      ]
    }
  ]
}