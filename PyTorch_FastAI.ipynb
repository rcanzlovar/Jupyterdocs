{
  "nbformat": 4,
  "nbformat_minor": 0,
  "metadata": {
    "colab": {
      "name": "PyTorch_FastAI.ipynb",
      "provenance": [],
      "authorship_tag": "ABX9TyPUryPK5+R2zBS12LofWt8k",
      "include_colab_link": true
    },
    "kernelspec": {
      "name": "python3",
      "display_name": "Python 3"
    }
  },
  "cells": [
    {
      "cell_type": "markdown",
      "metadata": {
        "id": "view-in-github",
        "colab_type": "text"
      },
      "source": [
        "<a href=\"https://colab.research.google.com/github/rcanzlovar/Jupyterdocs/blob/master/PyTorch_FastAI.ipynb\" target=\"_parent\"><img src=\"https://colab.research.google.com/assets/colab-badge.svg\" alt=\"Open In Colab\"/></a>"
      ]
    },
    {
      "cell_type": "code",
      "metadata": {
        "id": "iGLnhtniVC2f"
      },
      "source": [
        "PyTorch FastAI \n"
      ],
      "execution_count": null,
      "outputs": []
    }
  ]
}