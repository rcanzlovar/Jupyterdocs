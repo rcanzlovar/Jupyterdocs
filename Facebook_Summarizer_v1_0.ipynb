{
  "nbformat": 4,
  "nbformat_minor": 0,
  "metadata": {
    "colab": {
      "name": "Facebook Summarizer v1.0",
      "provenance": [],
      "collapsed_sections": [],
      "authorship_tag": "ABX9TyNLtMK64fvtT3tnqiFdPjtq",
      "include_colab_link": true
    },
    "kernelspec": {
      "name": "python3",
      "display_name": "Python 3"
    }
  },
  "cells": [
    {
      "cell_type": "markdown",
      "metadata": {
        "id": "view-in-github",
        "colab_type": "text"
      },
      "source": [
        "<a href=\"https://colab.research.google.com/github/rcanzlovar/Jupyterdocs/blob/master/Facebook_Summarizer_v1_0.ipynb\" target=\"_parent\"><img src=\"https://colab.research.google.com/assets/colab-badge.svg\" alt=\"Open In Colab\"/></a>"
      ]
    },
    {
      "cell_type": "markdown",
      "metadata": {
        "id": "AOiRGKUCf-xG",
        "colab_type": "text"
      },
      "source": [
        "# Facebook Summarizer\n",
        "\n",
        "Facebook has a facility to allow you to download all of your facebook information. \n",
        "\n",
        "* Go to Facebook.com/settings\n",
        "* Tap “Download a copy of your Facebook data.”\n",
        "* Tap “Download Archive.”\n",
        "\n",
        "    It might take a few minutes, but Facebook will alert you when your archive is ready.\n",
        "* When it is, click “Download Archive” again, and a zip file will download to your computer. The download will be a big zip file that has all your posts, all your pictures, and all kinds of other stuff. \n",
        "\n",
        "In the directory structure that is created, ./posts/your_posts.json contains all of your posts: updating statuses, sharing links, photos, etc. along with comments to these. \n",
        "\n",
        "If you are just reposting a link from someone else, the link will not be carried, but your comment is. \n",
        "\n",
        "In breakoutdate() this script parses out your_posts.json and breaks out the month and day of each post im Markdown format so that the next step (daybook) can create a series of up to 366 posts for each day of the year so that all january 1 posts are together, then all January 2, etc. Currently we create bogus ones like 04_31 and 02_31 but they should be empty.\n"
      ]
    },
    {
      "cell_type": "code",
      "metadata": {
        "id": "OaBZrhJYzJNb",
        "colab_type": "code",
        "colab": {
          "base_uri": "https://localhost:8080/",
          "height": 54
        },
        "outputId": "3a0bf0e5-fdb2-4f68-99c7-56f8ea02fb68"
      },
      "source": [
        "import pandas as pd\n",
        "\n",
        "# load google drive to save things... \n",
        "from google.colab import drive\n",
        "drive.mount('/content/drive')\n",
        "\n",
        "file = \"/content/drive/My Drive/fbfun/soltahr_posts.json\"\n",
        "#file = \"/content/drive/My Drive/fbfun/rca_posts.json\"\n",
        "\n",
        "file_prefix = \"/content/drive/My Drive/fbfun/soltahr/soltahr_post_\"\n",
        "\n",
        "\n",
        "## use this to upload a file to known file name. It's a little clunky \n",
        "#from google.colab import files\n",
        "#uploaded = files.upload()\n",
        "\n",
        "#print (\"uploaded\",uploaded)\n",
        "import io\n",
        "df = pd.read_json(file)\n",
        "# Dataset is now stored in a Pandas Dataframe\n",
        "\n",
        "import datetime \n",
        "# mangle the timestamps to be date objects \n",
        "df['timestamp'] = pd.to_datetime(df['timestamp'], errors='coerce')\n"
      ],
      "execution_count": 13,
      "outputs": [
        {
          "output_type": "stream",
          "text": [
            "Drive already mounted at /content/drive; to attempt to forcibly remount, call drive.mount(\"/content/drive\", force_remount=True).\n"
          ],
          "name": "stdout"
        }
      ]
    },
    {
      "cell_type": "code",
      "metadata": {
        "id": "tlTX3vM64C0Z",
        "colab_type": "code",
        "colab": {}
      },
      "source": [
        "#rm  /content/drive/My\\ Drive/fbfun/soltahr/*.md\n",
        "#!bash\n"
      ],
      "execution_count": 14,
      "outputs": []
    },
    {
      "cell_type": "code",
      "metadata": {
        "id": "ijxinDP64qxO",
        "colab_type": "code",
        "colab": {}
      },
      "source": [
        "# make transformations:  running average \n",
        "days = [\"Sunday\",\"Monday\",\"Tuesday\",\"Wednesday\",\"Thursday\",\"Friday\",\"Saturday\"]\n",
        "import math\n",
        "\n",
        "def breakoutdate (mydf):\n",
        "  for i in range(0,mydf.shape[0]):\n",
        "    url = title = post = ''\n",
        "    timestamp = mydf.iloc[i].timestamp\n",
        "    ts = pd.to_datetime(timestamp, errors='coerce')\n",
        "    try:\n",
        "      post =  mydf.iloc[i].data[0]['post']\n",
        "    except TypeError:\n",
        "      post = '???'\n",
        "    except KeyError:\n",
        "      post = '???!'\n",
        "    mydf.loc[mydf.index[i],'post'] = post\n",
        "    #\n",
        "    try:\n",
        "      title = mydf.iloc[i].title\n",
        "    except:\n",
        "      title = post\n",
        "   \n",
        "    # URL attachment\n",
        "    # note this can be a duplicate of a URL that is part of the post\n",
        "    # it seems that once facebook recognizes it as a URL then it makes\n",
        "    # the URL element\n",
        "\n",
        "    # need to do a curl or wget to get\n",
        "    try:\n",
        "        url = mydf.iloc[i]['attachments'][0]['data'][0]['external_context']['url']\n",
        "        if url:\n",
        "          mydf.loc[mydf.index[i],'url'] = url\n",
        "    except:\n",
        "      pass\n",
        "\n",
        "    comments = []\n",
        "    # picture uploads\n",
        "    try:\n",
        "       media_uri = mydf.iloc[i]['attachments'][0]['data'][0]['media']['uri']\n",
        "       mydf.loc[mydf.index[i],'media'] = media_uri\n",
        "    except:\n",
        "      pass\n",
        "\n",
        "    mydf.loc[mydf.index[i],'weekday'] = ts.weekday()\n",
        "    mydf.loc[mydf.index[i],'month'] = ts.month\n",
        "    mydf.loc[mydf.index[i],'day'] = ts.day\n",
        "\n",
        "def foo():\n",
        "    print(days[mydate.weekday()])\n",
        "    \n",
        "\n",
        "    # iterate over comments\n",
        "    for x in range(len(comments)): \n",
        "        tx = datetime.datetime.fromtimestamp(comments[x]['timestamp'])\n",
        "        print(\"* \",tx,comments[x]['author'])\n",
        "        print(comments[x]['comment'])\n",
        "        print(\"---\")\n",
        "\n",
        "\n",
        "\n",
        "    print(\"---\")\n",
        "\n"
      ],
      "execution_count": 15,
      "outputs": []
    },
    {
      "cell_type": "code",
      "metadata": {
        "id": "twy2-5d-VCP4",
        "colab_type": "code",
        "colab": {}
      },
      "source": [
        "breakoutdate(df)"
      ],
      "execution_count": 16,
      "outputs": []
    },
    {
      "cell_type": "code",
      "metadata": {
        "id": "137Xuq1Fg_L1",
        "colab_type": "code",
        "colab": {
          "base_uri": "https://localhost:8080/",
          "height": 85
        },
        "outputId": "42c99c06-b35c-4d01-f7a5-e0d2c4e8e6c4"
      },
      "source": [
        "\n",
        "\n",
        "import pprint as pp\n",
        "import sys\n",
        "\n",
        "def print_to_stderr(*a): \n",
        "    # Here a is the array holding the objects \n",
        "    # passed as the arguement of the function \n",
        "    print(*a, file = sys.stderr) \n",
        "  \n",
        "\n",
        "!pip install pypandoc\n",
        "import pypandoc \n",
        "\n",
        "def daybook(df,month,day):\n",
        "\n",
        "    df2 = df[df['day'] == day]\n",
        "    df3 = df2[df2['month'] == month]\n",
        "    datestring = ('','0')[month < 10] + str(month) + \"_\" + ('','0')[day < 10] +  str(day)\n",
        "\n",
        "    filebase = file_prefix + datestring\n",
        "    myinfile = filebase + '.md'\n",
        "    myoutfile = filebase + '.html'\n",
        "\n",
        "    print_to_stderr (\"out to file \",myinfile)\n",
        "    print (\"out to file \",myinfile)\n",
        "    original_stdout = sys.stdout # Save a reference to the original standard output\n",
        "\n",
        "###    if 1==1: # useful for troublshooting when i've moved stdout to a file \n",
        "    with open(myinfile, 'w') as f:\n",
        "        sys.stdout = f # Change the standard output to the file we created.\n",
        "        #   sys.stdout = f # Change the standard output to the file we created.\n",
        "\n",
        "        ####with open(file, 'w') as f:\n",
        "        ####   sys.stdout = f # Change the standard output to the file we created.\n",
        "        #  with open(file, 'w') as f:\n",
        "        #    sys.stdout = f # Change the standard output to the file we created.\n",
        "        print ('<a name=\"' + datestring + '\"></a>')\n",
        "\n",
        "        print ('<link rel=\"stylesheet\" type=\"text/css\" href=\"style.css\">')\n",
        "\n",
        "\n",
        "        # reverse for loop because facebook stores this newst to oldest\n",
        "        for i in range(df3.shape[0] - 1, -1, -1):\n",
        "#        for i in range(0,df3.shape[0]):\n",
        "            #print_to_stderr(df3.iloc[i])\n",
        "            thing = df3.iloc[i]\n",
        "\n",
        "            #title\n",
        "            if thing['title'] == thing['title']:\n",
        "              title = thing['title']\n",
        "            else:\n",
        "              title = \"\"\n",
        "\n",
        "            # if someone posts a photo to your timeline, you dont get anything. skip it \n",
        "            if (title.find('photo to your timeline') > 0):\n",
        "              continue\n",
        "            #if (thing['post'].find('???') > 0):\n",
        "            #  continue\n",
        "            if (title.find('photo to your timeline') > 0):\n",
        "              continue\n",
        "            if (title.find('shared a') > 0):\n",
        "              if (thing['post'].find('???') > 0 and  \n",
        "                  thing['url'] != thing['url'] and \n",
        "                  thing['media'] != thing['media']):\n",
        "                \n",
        "                      print_to_stderr(\"post = \",thing['post'])\n",
        "                      print_to_stderr(\"url = \",thing['url'])\n",
        "                      print_to_stderr(\"media = \",thing['media'])\n",
        "                      print_to_stderr(\"=====\")\n",
        "\n",
        "                      print_to_stderr(\"SKIPPING\")\n",
        "                      print_to_stderr(thing)\n",
        "\n",
        "\n",
        "                      continue\n",
        "\n",
        "            # \n",
        "            # hr separator \n",
        "            print('<div class=\"content\" width=\"400px\">')\n",
        "\n",
        "            print('---')\n",
        "            print()\n",
        "\n",
        "            print (\"### \" + str(thing['timestamp']) + \" - \" + title)\n",
        "            print()\n",
        "            if thing['post']:\n",
        "              if thing['post'] != '???':\n",
        "                print (thing['post']) \n",
        "\n",
        "            if thing['url'] == thing['url']:\n",
        "              print ('[' + thing['url'] + '](' + thing['url'] + ')')  \n",
        "            if thing['media'] == thing['media']:\n",
        "              #print ('![image](' + thing['media'] +')')  \n",
        "              print ('<img src=\"' + thing['media'] + '\" width=\"100%\">')  \n",
        "            print('</div>')\n",
        "\n",
        "\n",
        "        sys.stdout = original_stdout # Reset the standard output to its original value\n",
        "        #### sys.stdout = original_stdout # Reset the standard output to its original value\n",
        "        # sys.stdout = original_stdout # Reset the standard output to its original value\n",
        "###        f.close() # is this necessary?\n",
        "        #pypandoc.convert_file(myinfile, 'html',outputfile=myoutfile)\n",
        "\n"
      ],
      "execution_count": 17,
      "outputs": [
        {
          "output_type": "stream",
          "text": [
            "Requirement already satisfied: pypandoc in /usr/local/lib/python3.6/dist-packages (1.5)\n",
            "Requirement already satisfied: wheel>=0.25.0 in /usr/local/lib/python3.6/dist-packages (from pypandoc) (0.34.2)\n",
            "Requirement already satisfied: setuptools in /usr/local/lib/python3.6/dist-packages (from pypandoc) (47.3.1)\n",
            "Requirement already satisfied: pip>=8.1.0 in /usr/local/lib/python3.6/dist-packages (from pypandoc) (19.3.1)\n"
          ],
          "name": "stdout"
        }
      ]
    },
    {
      "cell_type": "code",
      "metadata": {
        "id": "b6EansX_CiC0",
        "colab_type": "code",
        "colab": {}
      },
      "source": [
        "#!rm \"/content/drive/My Drive/fbfun/soltahr/*\"\n",
        "#!bash\n"
      ],
      "execution_count": 18,
      "outputs": []
    },
    {
      "cell_type": "code",
      "metadata": {
        "id": "VsdYeQe4ewGl",
        "colab_type": "code",
        "colab": {
          "base_uri": "https://localhost:8080/",
          "height": 1000
        },
        "outputId": "5272857c-fe06-4da0-8c54-99cacbfc3f88"
      },
      "source": [
        "\n",
        "for mo in range(1,12+1):\n",
        "  for da in  range(1,31+1):\n",
        "    daybook(df,mo,da)\n",
        "\n",
        "#daybook(df,1,1)\n",
        "print_to_stderr(\"and on to the next thing\")"
      ],
      "execution_count": 19,
      "outputs": [
        {
          "output_type": "stream",
          "text": [
            "out to file  /content/drive/My Drive/fbfun/soltahr/soltahr_post_01_01.md\n",
            "out to file  /content/drive/My Drive/fbfun/soltahr/soltahr_post_01_02.md\n",
            "out to file  /content/drive/My Drive/fbfun/soltahr/soltahr_post_01_03.md\n",
            "out to file  /content/drive/My Drive/fbfun/soltahr/soltahr_post_01_04.md\n",
            "out to file  /content/drive/My Drive/fbfun/soltahr/soltahr_post_01_05.md\n",
            "out to file  /content/drive/My Drive/fbfun/soltahr/soltahr_post_01_06.md\n",
            "out to file  /content/drive/My Drive/fbfun/soltahr/soltahr_post_01_07.md\n",
            "out to file  /content/drive/My Drive/fbfun/soltahr/soltahr_post_01_08.md\n",
            "out to file  /content/drive/My Drive/fbfun/soltahr/soltahr_post_01_09.md\n",
            "out to file  /content/drive/My Drive/fbfun/soltahr/soltahr_post_01_10.md\n",
            "out to file  /content/drive/My Drive/fbfun/soltahr/soltahr_post_01_11.md\n",
            "out to file  /content/drive/My Drive/fbfun/soltahr/soltahr_post_01_12.md\n",
            "out to file  /content/drive/My Drive/fbfun/soltahr/soltahr_post_01_13.md\n"
          ],
          "name": "stderr"
        },
        {
          "output_type": "stream",
          "text": [
            "out to file  /content/drive/My Drive/fbfun/soltahr/soltahr_post_01_01.md\n",
            "out to file  /content/drive/My Drive/fbfun/soltahr/soltahr_post_01_02.md\n",
            "out to file  /content/drive/My Drive/fbfun/soltahr/soltahr_post_01_03.md\n",
            "out to file  /content/drive/My Drive/fbfun/soltahr/soltahr_post_01_04.md\n",
            "out to file  /content/drive/My Drive/fbfun/soltahr/soltahr_post_01_05.md\n",
            "out to file  /content/drive/My Drive/fbfun/soltahr/soltahr_post_01_06.md\n",
            "out to file  /content/drive/My Drive/fbfun/soltahr/soltahr_post_01_07.md\n",
            "out to file  /content/drive/My Drive/fbfun/soltahr/soltahr_post_01_08.md\n",
            "out to file  /content/drive/My Drive/fbfun/soltahr/soltahr_post_01_09.md\n",
            "out to file  /content/drive/My Drive/fbfun/soltahr/soltahr_post_01_10.md\n",
            "out to file  /content/drive/My Drive/fbfun/soltahr/soltahr_post_01_11.md\n",
            "out to file  /content/drive/My Drive/fbfun/soltahr/soltahr_post_01_12.md\n",
            "out to file  /content/drive/My Drive/fbfun/soltahr/soltahr_post_01_13.md\n"
          ],
          "name": "stdout"
        },
        {
          "output_type": "stream",
          "text": [
            "out to file  /content/drive/My Drive/fbfun/soltahr/soltahr_post_01_14.md\n",
            "out to file  /content/drive/My Drive/fbfun/soltahr/soltahr_post_01_15.md\n",
            "out to file  /content/drive/My Drive/fbfun/soltahr/soltahr_post_01_16.md\n",
            "out to file  /content/drive/My Drive/fbfun/soltahr/soltahr_post_01_17.md\n",
            "out to file  /content/drive/My Drive/fbfun/soltahr/soltahr_post_01_18.md\n",
            "out to file  /content/drive/My Drive/fbfun/soltahr/soltahr_post_01_19.md\n",
            "out to file  /content/drive/My Drive/fbfun/soltahr/soltahr_post_01_20.md\n",
            "out to file  /content/drive/My Drive/fbfun/soltahr/soltahr_post_01_21.md\n",
            "out to file  /content/drive/My Drive/fbfun/soltahr/soltahr_post_01_22.md\n",
            "out to file  /content/drive/My Drive/fbfun/soltahr/soltahr_post_01_23.md\n",
            "out to file  /content/drive/My Drive/fbfun/soltahr/soltahr_post_01_24.md\n",
            "out to file  /content/drive/My Drive/fbfun/soltahr/soltahr_post_01_25.md\n",
            "out to file  /content/drive/My Drive/fbfun/soltahr/soltahr_post_01_26.md\n",
            "out to file  /content/drive/My Drive/fbfun/soltahr/soltahr_post_01_27.md\n"
          ],
          "name": "stderr"
        },
        {
          "output_type": "stream",
          "text": [
            "out to file  /content/drive/My Drive/fbfun/soltahr/soltahr_post_01_14.md\n",
            "out to file  /content/drive/My Drive/fbfun/soltahr/soltahr_post_01_15.md\n",
            "out to file  /content/drive/My Drive/fbfun/soltahr/soltahr_post_01_16.md\n",
            "out to file  /content/drive/My Drive/fbfun/soltahr/soltahr_post_01_17.md\n",
            "out to file  /content/drive/My Drive/fbfun/soltahr/soltahr_post_01_18.md\n",
            "out to file  /content/drive/My Drive/fbfun/soltahr/soltahr_post_01_19.md\n",
            "out to file  /content/drive/My Drive/fbfun/soltahr/soltahr_post_01_20.md\n",
            "out to file  /content/drive/My Drive/fbfun/soltahr/soltahr_post_01_21.md\n",
            "out to file  /content/drive/My Drive/fbfun/soltahr/soltahr_post_01_22.md\n",
            "out to file  /content/drive/My Drive/fbfun/soltahr/soltahr_post_01_23.md\n",
            "out to file  /content/drive/My Drive/fbfun/soltahr/soltahr_post_01_24.md\n",
            "out to file  /content/drive/My Drive/fbfun/soltahr/soltahr_post_01_25.md\n",
            "out to file  /content/drive/My Drive/fbfun/soltahr/soltahr_post_01_26.md\n",
            "out to file  /content/drive/My Drive/fbfun/soltahr/soltahr_post_01_27.md\n"
          ],
          "name": "stdout"
        },
        {
          "output_type": "stream",
          "text": [
            "out to file  /content/drive/My Drive/fbfun/soltahr/soltahr_post_01_28.md\n",
            "out to file  /content/drive/My Drive/fbfun/soltahr/soltahr_post_01_29.md\n",
            "out to file  /content/drive/My Drive/fbfun/soltahr/soltahr_post_01_30.md\n",
            "out to file  /content/drive/My Drive/fbfun/soltahr/soltahr_post_01_31.md\n",
            "out to file  /content/drive/My Drive/fbfun/soltahr/soltahr_post_02_01.md\n",
            "out to file  /content/drive/My Drive/fbfun/soltahr/soltahr_post_02_02.md\n",
            "out to file  /content/drive/My Drive/fbfun/soltahr/soltahr_post_02_03.md\n",
            "out to file  /content/drive/My Drive/fbfun/soltahr/soltahr_post_02_04.md\n",
            "out to file  /content/drive/My Drive/fbfun/soltahr/soltahr_post_02_05.md\n",
            "out to file  /content/drive/My Drive/fbfun/soltahr/soltahr_post_02_06.md\n",
            "out to file  /content/drive/My Drive/fbfun/soltahr/soltahr_post_02_07.md\n",
            "out to file  /content/drive/My Drive/fbfun/soltahr/soltahr_post_02_08.md\n",
            "out to file  /content/drive/My Drive/fbfun/soltahr/soltahr_post_02_09.md\n"
          ],
          "name": "stderr"
        },
        {
          "output_type": "stream",
          "text": [
            "out to file  /content/drive/My Drive/fbfun/soltahr/soltahr_post_01_28.md\n",
            "out to file  /content/drive/My Drive/fbfun/soltahr/soltahr_post_01_29.md\n",
            "out to file  /content/drive/My Drive/fbfun/soltahr/soltahr_post_01_30.md\n",
            "out to file  /content/drive/My Drive/fbfun/soltahr/soltahr_post_01_31.md\n",
            "out to file  /content/drive/My Drive/fbfun/soltahr/soltahr_post_02_01.md\n",
            "out to file  /content/drive/My Drive/fbfun/soltahr/soltahr_post_02_02.md\n",
            "out to file  /content/drive/My Drive/fbfun/soltahr/soltahr_post_02_03.md\n",
            "out to file  /content/drive/My Drive/fbfun/soltahr/soltahr_post_02_04.md\n",
            "out to file  /content/drive/My Drive/fbfun/soltahr/soltahr_post_02_05.md\n",
            "out to file  /content/drive/My Drive/fbfun/soltahr/soltahr_post_02_06.md\n",
            "out to file  /content/drive/My Drive/fbfun/soltahr/soltahr_post_02_07.md\n",
            "out to file  /content/drive/My Drive/fbfun/soltahr/soltahr_post_02_08.md\n",
            "out to file  /content/drive/My Drive/fbfun/soltahr/soltahr_post_02_09.md\n"
          ],
          "name": "stdout"
        },
        {
          "output_type": "stream",
          "text": [
            "out to file  /content/drive/My Drive/fbfun/soltahr/soltahr_post_02_10.md\n",
            "out to file  /content/drive/My Drive/fbfun/soltahr/soltahr_post_02_11.md\n",
            "out to file  /content/drive/My Drive/fbfun/soltahr/soltahr_post_02_12.md\n",
            "out to file  /content/drive/My Drive/fbfun/soltahr/soltahr_post_02_13.md\n",
            "out to file  /content/drive/My Drive/fbfun/soltahr/soltahr_post_02_14.md\n",
            "out to file  /content/drive/My Drive/fbfun/soltahr/soltahr_post_02_15.md\n",
            "out to file  /content/drive/My Drive/fbfun/soltahr/soltahr_post_02_16.md\n",
            "out to file  /content/drive/My Drive/fbfun/soltahr/soltahr_post_02_17.md\n",
            "out to file  /content/drive/My Drive/fbfun/soltahr/soltahr_post_02_18.md\n",
            "out to file  /content/drive/My Drive/fbfun/soltahr/soltahr_post_02_19.md\n",
            "out to file  /content/drive/My Drive/fbfun/soltahr/soltahr_post_02_20.md\n",
            "out to file  /content/drive/My Drive/fbfun/soltahr/soltahr_post_02_21.md\n",
            "out to file  /content/drive/My Drive/fbfun/soltahr/soltahr_post_02_22.md\n",
            "out to file  /content/drive/My Drive/fbfun/soltahr/soltahr_post_02_23.md\n"
          ],
          "name": "stderr"
        },
        {
          "output_type": "stream",
          "text": [
            "out to file  /content/drive/My Drive/fbfun/soltahr/soltahr_post_02_10.md\n",
            "out to file  /content/drive/My Drive/fbfun/soltahr/soltahr_post_02_11.md\n",
            "out to file  /content/drive/My Drive/fbfun/soltahr/soltahr_post_02_12.md\n",
            "out to file  /content/drive/My Drive/fbfun/soltahr/soltahr_post_02_13.md\n",
            "out to file  /content/drive/My Drive/fbfun/soltahr/soltahr_post_02_14.md\n",
            "out to file  /content/drive/My Drive/fbfun/soltahr/soltahr_post_02_15.md\n",
            "out to file  /content/drive/My Drive/fbfun/soltahr/soltahr_post_02_16.md\n",
            "out to file  /content/drive/My Drive/fbfun/soltahr/soltahr_post_02_17.md\n",
            "out to file  /content/drive/My Drive/fbfun/soltahr/soltahr_post_02_18.md\n",
            "out to file  /content/drive/My Drive/fbfun/soltahr/soltahr_post_02_19.md\n",
            "out to file  /content/drive/My Drive/fbfun/soltahr/soltahr_post_02_20.md\n",
            "out to file  /content/drive/My Drive/fbfun/soltahr/soltahr_post_02_21.md\n",
            "out to file  /content/drive/My Drive/fbfun/soltahr/soltahr_post_02_22.md\n",
            "out to file  /content/drive/My Drive/fbfun/soltahr/soltahr_post_02_23.md\n"
          ],
          "name": "stdout"
        },
        {
          "output_type": "stream",
          "text": [
            "out to file  /content/drive/My Drive/fbfun/soltahr/soltahr_post_02_24.md\n",
            "out to file  /content/drive/My Drive/fbfun/soltahr/soltahr_post_02_25.md\n",
            "out to file  /content/drive/My Drive/fbfun/soltahr/soltahr_post_02_26.md\n",
            "out to file  /content/drive/My Drive/fbfun/soltahr/soltahr_post_02_27.md\n",
            "out to file  /content/drive/My Drive/fbfun/soltahr/soltahr_post_02_28.md\n",
            "out to file  /content/drive/My Drive/fbfun/soltahr/soltahr_post_02_29.md\n",
            "out to file  /content/drive/My Drive/fbfun/soltahr/soltahr_post_02_30.md\n",
            "out to file  /content/drive/My Drive/fbfun/soltahr/soltahr_post_02_31.md\n",
            "out to file  /content/drive/My Drive/fbfun/soltahr/soltahr_post_03_01.md\n",
            "out to file  /content/drive/My Drive/fbfun/soltahr/soltahr_post_03_02.md\n",
            "out to file  /content/drive/My Drive/fbfun/soltahr/soltahr_post_03_03.md\n",
            "out to file  /content/drive/My Drive/fbfun/soltahr/soltahr_post_03_04.md\n",
            "out to file  /content/drive/My Drive/fbfun/soltahr/soltahr_post_03_05.md\n",
            "out to file  /content/drive/My Drive/fbfun/soltahr/soltahr_post_03_06.md\n",
            "out to file  /content/drive/My Drive/fbfun/soltahr/soltahr_post_03_07.md\n"
          ],
          "name": "stderr"
        },
        {
          "output_type": "stream",
          "text": [
            "out to file  /content/drive/My Drive/fbfun/soltahr/soltahr_post_02_24.md\n",
            "out to file  /content/drive/My Drive/fbfun/soltahr/soltahr_post_02_25.md\n",
            "out to file  /content/drive/My Drive/fbfun/soltahr/soltahr_post_02_26.md\n",
            "out to file  /content/drive/My Drive/fbfun/soltahr/soltahr_post_02_27.md\n",
            "out to file  /content/drive/My Drive/fbfun/soltahr/soltahr_post_02_28.md\n",
            "out to file  /content/drive/My Drive/fbfun/soltahr/soltahr_post_02_29.md\n",
            "out to file  /content/drive/My Drive/fbfun/soltahr/soltahr_post_02_30.md\n",
            "out to file  /content/drive/My Drive/fbfun/soltahr/soltahr_post_02_31.md\n",
            "out to file  /content/drive/My Drive/fbfun/soltahr/soltahr_post_03_01.md\n",
            "out to file  /content/drive/My Drive/fbfun/soltahr/soltahr_post_03_02.md\n",
            "out to file  /content/drive/My Drive/fbfun/soltahr/soltahr_post_03_03.md\n",
            "out to file  /content/drive/My Drive/fbfun/soltahr/soltahr_post_03_04.md\n",
            "out to file  /content/drive/My Drive/fbfun/soltahr/soltahr_post_03_05.md\n",
            "out to file  /content/drive/My Drive/fbfun/soltahr/soltahr_post_03_06.md\n",
            "out to file  /content/drive/My Drive/fbfun/soltahr/soltahr_post_03_07.md\n"
          ],
          "name": "stdout"
        },
        {
          "output_type": "stream",
          "text": [
            "out to file  /content/drive/My Drive/fbfun/soltahr/soltahr_post_03_08.md\n",
            "out to file  /content/drive/My Drive/fbfun/soltahr/soltahr_post_03_09.md\n",
            "out to file  /content/drive/My Drive/fbfun/soltahr/soltahr_post_03_10.md\n",
            "out to file  /content/drive/My Drive/fbfun/soltahr/soltahr_post_03_11.md\n",
            "out to file  /content/drive/My Drive/fbfun/soltahr/soltahr_post_03_12.md\n",
            "out to file  /content/drive/My Drive/fbfun/soltahr/soltahr_post_03_13.md\n",
            "out to file  /content/drive/My Drive/fbfun/soltahr/soltahr_post_03_14.md\n",
            "out to file  /content/drive/My Drive/fbfun/soltahr/soltahr_post_03_15.md\n",
            "out to file  /content/drive/My Drive/fbfun/soltahr/soltahr_post_03_16.md\n",
            "out to file  /content/drive/My Drive/fbfun/soltahr/soltahr_post_03_17.md\n",
            "out to file  /content/drive/My Drive/fbfun/soltahr/soltahr_post_03_18.md\n",
            "out to file  /content/drive/My Drive/fbfun/soltahr/soltahr_post_03_19.md\n",
            "out to file  /content/drive/My Drive/fbfun/soltahr/soltahr_post_03_20.md\n",
            "out to file  /content/drive/My Drive/fbfun/soltahr/soltahr_post_03_21.md\n",
            "out to file  /content/drive/My Drive/fbfun/soltahr/soltahr_post_03_22.md\n"
          ],
          "name": "stderr"
        },
        {
          "output_type": "stream",
          "text": [
            "out to file  /content/drive/My Drive/fbfun/soltahr/soltahr_post_03_08.md\n",
            "out to file  /content/drive/My Drive/fbfun/soltahr/soltahr_post_03_09.md\n",
            "out to file  /content/drive/My Drive/fbfun/soltahr/soltahr_post_03_10.md\n",
            "out to file  /content/drive/My Drive/fbfun/soltahr/soltahr_post_03_11.md\n",
            "out to file  /content/drive/My Drive/fbfun/soltahr/soltahr_post_03_12.md\n",
            "out to file  /content/drive/My Drive/fbfun/soltahr/soltahr_post_03_13.md\n",
            "out to file  /content/drive/My Drive/fbfun/soltahr/soltahr_post_03_14.md\n",
            "out to file  /content/drive/My Drive/fbfun/soltahr/soltahr_post_03_15.md\n",
            "out to file  /content/drive/My Drive/fbfun/soltahr/soltahr_post_03_16.md\n",
            "out to file  /content/drive/My Drive/fbfun/soltahr/soltahr_post_03_17.md\n",
            "out to file  /content/drive/My Drive/fbfun/soltahr/soltahr_post_03_18.md\n",
            "out to file  /content/drive/My Drive/fbfun/soltahr/soltahr_post_03_19.md\n",
            "out to file  /content/drive/My Drive/fbfun/soltahr/soltahr_post_03_20.md\n",
            "out to file  /content/drive/My Drive/fbfun/soltahr/soltahr_post_03_21.md\n",
            "out to file  /content/drive/My Drive/fbfun/soltahr/soltahr_post_03_22.md\n"
          ],
          "name": "stdout"
        },
        {
          "output_type": "stream",
          "text": [
            "out to file  /content/drive/My Drive/fbfun/soltahr/soltahr_post_03_23.md\n",
            "out to file  /content/drive/My Drive/fbfun/soltahr/soltahr_post_03_24.md\n",
            "out to file  /content/drive/My Drive/fbfun/soltahr/soltahr_post_03_25.md\n",
            "out to file  /content/drive/My Drive/fbfun/soltahr/soltahr_post_03_26.md\n",
            "out to file  /content/drive/My Drive/fbfun/soltahr/soltahr_post_03_27.md\n",
            "out to file  /content/drive/My Drive/fbfun/soltahr/soltahr_post_03_28.md\n",
            "out to file  /content/drive/My Drive/fbfun/soltahr/soltahr_post_03_29.md\n",
            "out to file  /content/drive/My Drive/fbfun/soltahr/soltahr_post_03_30.md\n",
            "out to file  /content/drive/My Drive/fbfun/soltahr/soltahr_post_03_31.md\n",
            "out to file  /content/drive/My Drive/fbfun/soltahr/soltahr_post_04_01.md\n",
            "out to file  /content/drive/My Drive/fbfun/soltahr/soltahr_post_04_02.md\n",
            "out to file  /content/drive/My Drive/fbfun/soltahr/soltahr_post_04_03.md\n",
            "out to file  /content/drive/My Drive/fbfun/soltahr/soltahr_post_04_04.md\n",
            "out to file  /content/drive/My Drive/fbfun/soltahr/soltahr_post_04_05.md\n"
          ],
          "name": "stderr"
        },
        {
          "output_type": "stream",
          "text": [
            "out to file  /content/drive/My Drive/fbfun/soltahr/soltahr_post_03_23.md\n",
            "out to file  /content/drive/My Drive/fbfun/soltahr/soltahr_post_03_24.md\n",
            "out to file  /content/drive/My Drive/fbfun/soltahr/soltahr_post_03_25.md\n",
            "out to file  /content/drive/My Drive/fbfun/soltahr/soltahr_post_03_26.md\n",
            "out to file  /content/drive/My Drive/fbfun/soltahr/soltahr_post_03_27.md\n",
            "out to file  /content/drive/My Drive/fbfun/soltahr/soltahr_post_03_28.md\n",
            "out to file  /content/drive/My Drive/fbfun/soltahr/soltahr_post_03_29.md\n",
            "out to file  /content/drive/My Drive/fbfun/soltahr/soltahr_post_03_30.md\n",
            "out to file  /content/drive/My Drive/fbfun/soltahr/soltahr_post_03_31.md\n",
            "out to file  /content/drive/My Drive/fbfun/soltahr/soltahr_post_04_01.md\n",
            "out to file  /content/drive/My Drive/fbfun/soltahr/soltahr_post_04_02.md\n",
            "out to file  /content/drive/My Drive/fbfun/soltahr/soltahr_post_04_03.md\n",
            "out to file  /content/drive/My Drive/fbfun/soltahr/soltahr_post_04_04.md\n",
            "out to file  /content/drive/My Drive/fbfun/soltahr/soltahr_post_04_05.md\n"
          ],
          "name": "stdout"
        },
        {
          "output_type": "stream",
          "text": [
            "out to file  /content/drive/My Drive/fbfun/soltahr/soltahr_post_04_06.md\n",
            "out to file  /content/drive/My Drive/fbfun/soltahr/soltahr_post_04_07.md\n",
            "out to file  /content/drive/My Drive/fbfun/soltahr/soltahr_post_04_08.md\n",
            "out to file  /content/drive/My Drive/fbfun/soltahr/soltahr_post_04_09.md\n",
            "out to file  /content/drive/My Drive/fbfun/soltahr/soltahr_post_04_10.md\n",
            "out to file  /content/drive/My Drive/fbfun/soltahr/soltahr_post_04_11.md\n",
            "out to file  /content/drive/My Drive/fbfun/soltahr/soltahr_post_04_12.md\n",
            "out to file  /content/drive/My Drive/fbfun/soltahr/soltahr_post_04_13.md\n",
            "out to file  /content/drive/My Drive/fbfun/soltahr/soltahr_post_04_14.md\n",
            "out to file  /content/drive/My Drive/fbfun/soltahr/soltahr_post_04_15.md\n",
            "out to file  /content/drive/My Drive/fbfun/soltahr/soltahr_post_04_16.md\n",
            "out to file  /content/drive/My Drive/fbfun/soltahr/soltahr_post_04_17.md\n",
            "out to file  /content/drive/My Drive/fbfun/soltahr/soltahr_post_04_18.md\n",
            "out to file  /content/drive/My Drive/fbfun/soltahr/soltahr_post_04_19.md\n",
            "out to file  /content/drive/My Drive/fbfun/soltahr/soltahr_post_04_20.md\n"
          ],
          "name": "stderr"
        },
        {
          "output_type": "stream",
          "text": [
            "out to file  /content/drive/My Drive/fbfun/soltahr/soltahr_post_04_06.md\n",
            "out to file  /content/drive/My Drive/fbfun/soltahr/soltahr_post_04_07.md\n",
            "out to file  /content/drive/My Drive/fbfun/soltahr/soltahr_post_04_08.md\n",
            "out to file  /content/drive/My Drive/fbfun/soltahr/soltahr_post_04_09.md\n",
            "out to file  /content/drive/My Drive/fbfun/soltahr/soltahr_post_04_10.md\n",
            "out to file  /content/drive/My Drive/fbfun/soltahr/soltahr_post_04_11.md\n",
            "out to file  /content/drive/My Drive/fbfun/soltahr/soltahr_post_04_12.md\n",
            "out to file  /content/drive/My Drive/fbfun/soltahr/soltahr_post_04_13.md\n",
            "out to file  /content/drive/My Drive/fbfun/soltahr/soltahr_post_04_14.md\n",
            "out to file  /content/drive/My Drive/fbfun/soltahr/soltahr_post_04_15.md\n",
            "out to file  /content/drive/My Drive/fbfun/soltahr/soltahr_post_04_16.md\n",
            "out to file  /content/drive/My Drive/fbfun/soltahr/soltahr_post_04_17.md\n",
            "out to file  /content/drive/My Drive/fbfun/soltahr/soltahr_post_04_18.md\n",
            "out to file  /content/drive/My Drive/fbfun/soltahr/soltahr_post_04_19.md\n",
            "out to file  /content/drive/My Drive/fbfun/soltahr/soltahr_post_04_20.md\n"
          ],
          "name": "stdout"
        },
        {
          "output_type": "stream",
          "text": [
            "out to file  /content/drive/My Drive/fbfun/soltahr/soltahr_post_04_21.md\n",
            "out to file  /content/drive/My Drive/fbfun/soltahr/soltahr_post_04_22.md\n",
            "out to file  /content/drive/My Drive/fbfun/soltahr/soltahr_post_04_23.md\n",
            "out to file  /content/drive/My Drive/fbfun/soltahr/soltahr_post_04_24.md\n",
            "out to file  /content/drive/My Drive/fbfun/soltahr/soltahr_post_04_25.md\n",
            "out to file  /content/drive/My Drive/fbfun/soltahr/soltahr_post_04_26.md\n",
            "out to file  /content/drive/My Drive/fbfun/soltahr/soltahr_post_04_27.md\n",
            "out to file  /content/drive/My Drive/fbfun/soltahr/soltahr_post_04_28.md\n",
            "out to file  /content/drive/My Drive/fbfun/soltahr/soltahr_post_04_29.md\n",
            "out to file  /content/drive/My Drive/fbfun/soltahr/soltahr_post_04_30.md\n",
            "out to file  /content/drive/My Drive/fbfun/soltahr/soltahr_post_04_31.md\n",
            "out to file  /content/drive/My Drive/fbfun/soltahr/soltahr_post_05_01.md\n",
            "out to file  /content/drive/My Drive/fbfun/soltahr/soltahr_post_05_02.md\n",
            "out to file  /content/drive/My Drive/fbfun/soltahr/soltahr_post_05_03.md\n"
          ],
          "name": "stderr"
        },
        {
          "output_type": "stream",
          "text": [
            "out to file  /content/drive/My Drive/fbfun/soltahr/soltahr_post_04_21.md\n",
            "out to file  /content/drive/My Drive/fbfun/soltahr/soltahr_post_04_22.md\n",
            "out to file  /content/drive/My Drive/fbfun/soltahr/soltahr_post_04_23.md\n",
            "out to file  /content/drive/My Drive/fbfun/soltahr/soltahr_post_04_24.md\n",
            "out to file  /content/drive/My Drive/fbfun/soltahr/soltahr_post_04_25.md\n",
            "out to file  /content/drive/My Drive/fbfun/soltahr/soltahr_post_04_26.md\n",
            "out to file  /content/drive/My Drive/fbfun/soltahr/soltahr_post_04_27.md\n",
            "out to file  /content/drive/My Drive/fbfun/soltahr/soltahr_post_04_28.md\n",
            "out to file  /content/drive/My Drive/fbfun/soltahr/soltahr_post_04_29.md\n",
            "out to file  /content/drive/My Drive/fbfun/soltahr/soltahr_post_04_30.md\n",
            "out to file  /content/drive/My Drive/fbfun/soltahr/soltahr_post_04_31.md\n",
            "out to file  /content/drive/My Drive/fbfun/soltahr/soltahr_post_05_01.md\n",
            "out to file  /content/drive/My Drive/fbfun/soltahr/soltahr_post_05_02.md\n",
            "out to file  /content/drive/My Drive/fbfun/soltahr/soltahr_post_05_03.md\n"
          ],
          "name": "stdout"
        },
        {
          "output_type": "stream",
          "text": [
            "out to file  /content/drive/My Drive/fbfun/soltahr/soltahr_post_05_04.md\n",
            "out to file  /content/drive/My Drive/fbfun/soltahr/soltahr_post_05_05.md\n",
            "out to file  /content/drive/My Drive/fbfun/soltahr/soltahr_post_05_06.md\n",
            "out to file  /content/drive/My Drive/fbfun/soltahr/soltahr_post_05_07.md\n",
            "out to file  /content/drive/My Drive/fbfun/soltahr/soltahr_post_05_08.md\n",
            "out to file  /content/drive/My Drive/fbfun/soltahr/soltahr_post_05_09.md\n",
            "out to file  /content/drive/My Drive/fbfun/soltahr/soltahr_post_05_10.md\n",
            "out to file  /content/drive/My Drive/fbfun/soltahr/soltahr_post_05_11.md\n",
            "out to file  /content/drive/My Drive/fbfun/soltahr/soltahr_post_05_12.md\n",
            "out to file  /content/drive/My Drive/fbfun/soltahr/soltahr_post_05_13.md\n",
            "out to file  /content/drive/My Drive/fbfun/soltahr/soltahr_post_05_14.md\n",
            "out to file  /content/drive/My Drive/fbfun/soltahr/soltahr_post_05_15.md\n",
            "out to file  /content/drive/My Drive/fbfun/soltahr/soltahr_post_05_16.md\n",
            "out to file  /content/drive/My Drive/fbfun/soltahr/soltahr_post_05_17.md\n"
          ],
          "name": "stderr"
        },
        {
          "output_type": "stream",
          "text": [
            "out to file  /content/drive/My Drive/fbfun/soltahr/soltahr_post_05_04.md\n",
            "out to file  /content/drive/My Drive/fbfun/soltahr/soltahr_post_05_05.md\n",
            "out to file  /content/drive/My Drive/fbfun/soltahr/soltahr_post_05_06.md\n",
            "out to file  /content/drive/My Drive/fbfun/soltahr/soltahr_post_05_07.md\n",
            "out to file  /content/drive/My Drive/fbfun/soltahr/soltahr_post_05_08.md\n",
            "out to file  /content/drive/My Drive/fbfun/soltahr/soltahr_post_05_09.md\n",
            "out to file  /content/drive/My Drive/fbfun/soltahr/soltahr_post_05_10.md\n",
            "out to file  /content/drive/My Drive/fbfun/soltahr/soltahr_post_05_11.md\n",
            "out to file  /content/drive/My Drive/fbfun/soltahr/soltahr_post_05_12.md\n",
            "out to file  /content/drive/My Drive/fbfun/soltahr/soltahr_post_05_13.md\n",
            "out to file  /content/drive/My Drive/fbfun/soltahr/soltahr_post_05_14.md\n",
            "out to file  /content/drive/My Drive/fbfun/soltahr/soltahr_post_05_15.md\n",
            "out to file  /content/drive/My Drive/fbfun/soltahr/soltahr_post_05_16.md\n",
            "out to file  /content/drive/My Drive/fbfun/soltahr/soltahr_post_05_17.md\n"
          ],
          "name": "stdout"
        },
        {
          "output_type": "stream",
          "text": [
            "out to file  /content/drive/My Drive/fbfun/soltahr/soltahr_post_05_18.md\n",
            "out to file  /content/drive/My Drive/fbfun/soltahr/soltahr_post_05_19.md\n",
            "out to file  /content/drive/My Drive/fbfun/soltahr/soltahr_post_05_20.md\n",
            "out to file  /content/drive/My Drive/fbfun/soltahr/soltahr_post_05_21.md\n",
            "out to file  /content/drive/My Drive/fbfun/soltahr/soltahr_post_05_22.md\n",
            "out to file  /content/drive/My Drive/fbfun/soltahr/soltahr_post_05_23.md\n",
            "out to file  /content/drive/My Drive/fbfun/soltahr/soltahr_post_05_24.md\n",
            "out to file  /content/drive/My Drive/fbfun/soltahr/soltahr_post_05_25.md\n",
            "out to file  /content/drive/My Drive/fbfun/soltahr/soltahr_post_05_26.md\n",
            "out to file  /content/drive/My Drive/fbfun/soltahr/soltahr_post_05_27.md\n",
            "out to file  /content/drive/My Drive/fbfun/soltahr/soltahr_post_05_28.md\n",
            "out to file  /content/drive/My Drive/fbfun/soltahr/soltahr_post_05_29.md\n",
            "out to file  /content/drive/My Drive/fbfun/soltahr/soltahr_post_05_30.md\n",
            "out to file  /content/drive/My Drive/fbfun/soltahr/soltahr_post_05_31.md\n",
            "out to file  /content/drive/My Drive/fbfun/soltahr/soltahr_post_06_01.md\n"
          ],
          "name": "stderr"
        },
        {
          "output_type": "stream",
          "text": [
            "out to file  /content/drive/My Drive/fbfun/soltahr/soltahr_post_05_18.md\n",
            "out to file  /content/drive/My Drive/fbfun/soltahr/soltahr_post_05_19.md\n",
            "out to file  /content/drive/My Drive/fbfun/soltahr/soltahr_post_05_20.md\n",
            "out to file  /content/drive/My Drive/fbfun/soltahr/soltahr_post_05_21.md\n",
            "out to file  /content/drive/My Drive/fbfun/soltahr/soltahr_post_05_22.md\n",
            "out to file  /content/drive/My Drive/fbfun/soltahr/soltahr_post_05_23.md\n",
            "out to file  /content/drive/My Drive/fbfun/soltahr/soltahr_post_05_24.md\n",
            "out to file  /content/drive/My Drive/fbfun/soltahr/soltahr_post_05_25.md\n",
            "out to file  /content/drive/My Drive/fbfun/soltahr/soltahr_post_05_26.md\n",
            "out to file  /content/drive/My Drive/fbfun/soltahr/soltahr_post_05_27.md\n",
            "out to file  /content/drive/My Drive/fbfun/soltahr/soltahr_post_05_28.md\n",
            "out to file  /content/drive/My Drive/fbfun/soltahr/soltahr_post_05_29.md\n",
            "out to file  /content/drive/My Drive/fbfun/soltahr/soltahr_post_05_30.md\n",
            "out to file  /content/drive/My Drive/fbfun/soltahr/soltahr_post_05_31.md\n",
            "out to file  /content/drive/My Drive/fbfun/soltahr/soltahr_post_06_01.md\n"
          ],
          "name": "stdout"
        },
        {
          "output_type": "stream",
          "text": [
            "out to file  /content/drive/My Drive/fbfun/soltahr/soltahr_post_06_02.md\n",
            "out to file  /content/drive/My Drive/fbfun/soltahr/soltahr_post_06_03.md\n",
            "out to file  /content/drive/My Drive/fbfun/soltahr/soltahr_post_06_04.md\n",
            "out to file  /content/drive/My Drive/fbfun/soltahr/soltahr_post_06_05.md\n",
            "out to file  /content/drive/My Drive/fbfun/soltahr/soltahr_post_06_06.md\n",
            "out to file  /content/drive/My Drive/fbfun/soltahr/soltahr_post_06_07.md\n",
            "out to file  /content/drive/My Drive/fbfun/soltahr/soltahr_post_06_08.md\n",
            "out to file  /content/drive/My Drive/fbfun/soltahr/soltahr_post_06_09.md\n",
            "out to file  /content/drive/My Drive/fbfun/soltahr/soltahr_post_06_10.md\n",
            "out to file  /content/drive/My Drive/fbfun/soltahr/soltahr_post_06_11.md\n",
            "out to file  /content/drive/My Drive/fbfun/soltahr/soltahr_post_06_12.md\n",
            "out to file  /content/drive/My Drive/fbfun/soltahr/soltahr_post_06_13.md\n",
            "out to file  /content/drive/My Drive/fbfun/soltahr/soltahr_post_06_14.md\n",
            "out to file  /content/drive/My Drive/fbfun/soltahr/soltahr_post_06_15.md\n",
            "out to file  /content/drive/My Drive/fbfun/soltahr/soltahr_post_06_16.md\n"
          ],
          "name": "stderr"
        },
        {
          "output_type": "stream",
          "text": [
            "out to file  /content/drive/My Drive/fbfun/soltahr/soltahr_post_06_02.md\n",
            "out to file  /content/drive/My Drive/fbfun/soltahr/soltahr_post_06_03.md\n",
            "out to file  /content/drive/My Drive/fbfun/soltahr/soltahr_post_06_04.md\n",
            "out to file  /content/drive/My Drive/fbfun/soltahr/soltahr_post_06_05.md\n",
            "out to file  /content/drive/My Drive/fbfun/soltahr/soltahr_post_06_06.md\n",
            "out to file  /content/drive/My Drive/fbfun/soltahr/soltahr_post_06_07.md\n",
            "out to file  /content/drive/My Drive/fbfun/soltahr/soltahr_post_06_08.md\n",
            "out to file  /content/drive/My Drive/fbfun/soltahr/soltahr_post_06_09.md\n",
            "out to file  /content/drive/My Drive/fbfun/soltahr/soltahr_post_06_10.md\n",
            "out to file  /content/drive/My Drive/fbfun/soltahr/soltahr_post_06_11.md\n",
            "out to file  /content/drive/My Drive/fbfun/soltahr/soltahr_post_06_12.md\n",
            "out to file  /content/drive/My Drive/fbfun/soltahr/soltahr_post_06_13.md\n",
            "out to file  /content/drive/My Drive/fbfun/soltahr/soltahr_post_06_14.md\n",
            "out to file  /content/drive/My Drive/fbfun/soltahr/soltahr_post_06_15.md\n",
            "out to file  /content/drive/My Drive/fbfun/soltahr/soltahr_post_06_16.md\n"
          ],
          "name": "stdout"
        },
        {
          "output_type": "stream",
          "text": [
            "out to file  /content/drive/My Drive/fbfun/soltahr/soltahr_post_06_17.md\n",
            "out to file  /content/drive/My Drive/fbfun/soltahr/soltahr_post_06_18.md\n",
            "out to file  /content/drive/My Drive/fbfun/soltahr/soltahr_post_06_19.md\n",
            "out to file  /content/drive/My Drive/fbfun/soltahr/soltahr_post_06_20.md\n",
            "out to file  /content/drive/My Drive/fbfun/soltahr/soltahr_post_06_21.md\n",
            "out to file  /content/drive/My Drive/fbfun/soltahr/soltahr_post_06_22.md\n",
            "out to file  /content/drive/My Drive/fbfun/soltahr/soltahr_post_06_23.md\n",
            "out to file  /content/drive/My Drive/fbfun/soltahr/soltahr_post_06_24.md\n",
            "out to file  /content/drive/My Drive/fbfun/soltahr/soltahr_post_06_25.md\n",
            "out to file  /content/drive/My Drive/fbfun/soltahr/soltahr_post_06_26.md\n",
            "out to file  /content/drive/My Drive/fbfun/soltahr/soltahr_post_06_27.md\n",
            "out to file  /content/drive/My Drive/fbfun/soltahr/soltahr_post_06_28.md\n",
            "out to file  /content/drive/My Drive/fbfun/soltahr/soltahr_post_06_29.md\n",
            "out to file  /content/drive/My Drive/fbfun/soltahr/soltahr_post_06_30.md\n",
            "out to file  /content/drive/My Drive/fbfun/soltahr/soltahr_post_06_31.md\n",
            "out to file  /content/drive/My Drive/fbfun/soltahr/soltahr_post_07_01.md\n"
          ],
          "name": "stderr"
        },
        {
          "output_type": "stream",
          "text": [
            "out to file  /content/drive/My Drive/fbfun/soltahr/soltahr_post_06_17.md\n",
            "out to file  /content/drive/My Drive/fbfun/soltahr/soltahr_post_06_18.md\n",
            "out to file  /content/drive/My Drive/fbfun/soltahr/soltahr_post_06_19.md\n",
            "out to file  /content/drive/My Drive/fbfun/soltahr/soltahr_post_06_20.md\n",
            "out to file  /content/drive/My Drive/fbfun/soltahr/soltahr_post_06_21.md\n",
            "out to file  /content/drive/My Drive/fbfun/soltahr/soltahr_post_06_22.md\n",
            "out to file  /content/drive/My Drive/fbfun/soltahr/soltahr_post_06_23.md\n",
            "out to file  /content/drive/My Drive/fbfun/soltahr/soltahr_post_06_24.md\n",
            "out to file  /content/drive/My Drive/fbfun/soltahr/soltahr_post_06_25.md\n",
            "out to file  /content/drive/My Drive/fbfun/soltahr/soltahr_post_06_26.md\n",
            "out to file  /content/drive/My Drive/fbfun/soltahr/soltahr_post_06_27.md\n",
            "out to file  /content/drive/My Drive/fbfun/soltahr/soltahr_post_06_28.md\n",
            "out to file  /content/drive/My Drive/fbfun/soltahr/soltahr_post_06_29.md\n",
            "out to file  /content/drive/My Drive/fbfun/soltahr/soltahr_post_06_30.md\n",
            "out to file  /content/drive/My Drive/fbfun/soltahr/soltahr_post_06_31.md\n",
            "out to file  /content/drive/My Drive/fbfun/soltahr/soltahr_post_07_01.md\n"
          ],
          "name": "stdout"
        },
        {
          "output_type": "stream",
          "text": [
            "out to file  /content/drive/My Drive/fbfun/soltahr/soltahr_post_07_02.md\n",
            "out to file  /content/drive/My Drive/fbfun/soltahr/soltahr_post_07_03.md\n",
            "out to file  /content/drive/My Drive/fbfun/soltahr/soltahr_post_07_04.md\n",
            "out to file  /content/drive/My Drive/fbfun/soltahr/soltahr_post_07_05.md\n",
            "out to file  /content/drive/My Drive/fbfun/soltahr/soltahr_post_07_06.md\n",
            "out to file  /content/drive/My Drive/fbfun/soltahr/soltahr_post_07_07.md\n",
            "out to file  /content/drive/My Drive/fbfun/soltahr/soltahr_post_07_08.md\n",
            "out to file  /content/drive/My Drive/fbfun/soltahr/soltahr_post_07_09.md\n",
            "out to file  /content/drive/My Drive/fbfun/soltahr/soltahr_post_07_10.md\n",
            "out to file  /content/drive/My Drive/fbfun/soltahr/soltahr_post_07_11.md\n",
            "out to file  /content/drive/My Drive/fbfun/soltahr/soltahr_post_07_12.md\n",
            "out to file  /content/drive/My Drive/fbfun/soltahr/soltahr_post_07_13.md\n",
            "out to file  /content/drive/My Drive/fbfun/soltahr/soltahr_post_07_14.md\n",
            "out to file  /content/drive/My Drive/fbfun/soltahr/soltahr_post_07_15.md\n",
            "out to file  /content/drive/My Drive/fbfun/soltahr/soltahr_post_07_16.md\n"
          ],
          "name": "stderr"
        },
        {
          "output_type": "stream",
          "text": [
            "out to file  /content/drive/My Drive/fbfun/soltahr/soltahr_post_07_02.md\n",
            "out to file  /content/drive/My Drive/fbfun/soltahr/soltahr_post_07_03.md\n",
            "out to file  /content/drive/My Drive/fbfun/soltahr/soltahr_post_07_04.md\n",
            "out to file  /content/drive/My Drive/fbfun/soltahr/soltahr_post_07_05.md\n",
            "out to file  /content/drive/My Drive/fbfun/soltahr/soltahr_post_07_06.md\n",
            "out to file  /content/drive/My Drive/fbfun/soltahr/soltahr_post_07_07.md\n",
            "out to file  /content/drive/My Drive/fbfun/soltahr/soltahr_post_07_08.md\n",
            "out to file  /content/drive/My Drive/fbfun/soltahr/soltahr_post_07_09.md\n",
            "out to file  /content/drive/My Drive/fbfun/soltahr/soltahr_post_07_10.md\n",
            "out to file  /content/drive/My Drive/fbfun/soltahr/soltahr_post_07_11.md\n",
            "out to file  /content/drive/My Drive/fbfun/soltahr/soltahr_post_07_12.md\n",
            "out to file  /content/drive/My Drive/fbfun/soltahr/soltahr_post_07_13.md\n",
            "out to file  /content/drive/My Drive/fbfun/soltahr/soltahr_post_07_14.md\n",
            "out to file  /content/drive/My Drive/fbfun/soltahr/soltahr_post_07_15.md\n",
            "out to file  /content/drive/My Drive/fbfun/soltahr/soltahr_post_07_16.md\n"
          ],
          "name": "stdout"
        },
        {
          "output_type": "stream",
          "text": [
            "out to file  /content/drive/My Drive/fbfun/soltahr/soltahr_post_07_17.md\n",
            "out to file  /content/drive/My Drive/fbfun/soltahr/soltahr_post_07_18.md\n",
            "out to file  /content/drive/My Drive/fbfun/soltahr/soltahr_post_07_19.md\n",
            "out to file  /content/drive/My Drive/fbfun/soltahr/soltahr_post_07_20.md\n",
            "out to file  /content/drive/My Drive/fbfun/soltahr/soltahr_post_07_21.md\n",
            "out to file  /content/drive/My Drive/fbfun/soltahr/soltahr_post_07_22.md\n",
            "out to file  /content/drive/My Drive/fbfun/soltahr/soltahr_post_07_23.md\n",
            "out to file  /content/drive/My Drive/fbfun/soltahr/soltahr_post_07_24.md\n",
            "out to file  /content/drive/My Drive/fbfun/soltahr/soltahr_post_07_25.md\n",
            "out to file  /content/drive/My Drive/fbfun/soltahr/soltahr_post_07_26.md\n",
            "out to file  /content/drive/My Drive/fbfun/soltahr/soltahr_post_07_27.md\n",
            "out to file  /content/drive/My Drive/fbfun/soltahr/soltahr_post_07_28.md\n",
            "out to file  /content/drive/My Drive/fbfun/soltahr/soltahr_post_07_29.md\n",
            "out to file  /content/drive/My Drive/fbfun/soltahr/soltahr_post_07_30.md\n",
            "out to file  /content/drive/My Drive/fbfun/soltahr/soltahr_post_07_31.md\n",
            "out to file  /content/drive/My Drive/fbfun/soltahr/soltahr_post_08_01.md\n"
          ],
          "name": "stderr"
        },
        {
          "output_type": "stream",
          "text": [
            "out to file  /content/drive/My Drive/fbfun/soltahr/soltahr_post_07_17.md\n",
            "out to file  /content/drive/My Drive/fbfun/soltahr/soltahr_post_07_18.md\n",
            "out to file  /content/drive/My Drive/fbfun/soltahr/soltahr_post_07_19.md\n",
            "out to file  /content/drive/My Drive/fbfun/soltahr/soltahr_post_07_20.md\n",
            "out to file  /content/drive/My Drive/fbfun/soltahr/soltahr_post_07_21.md\n",
            "out to file  /content/drive/My Drive/fbfun/soltahr/soltahr_post_07_22.md\n",
            "out to file  /content/drive/My Drive/fbfun/soltahr/soltahr_post_07_23.md\n",
            "out to file  /content/drive/My Drive/fbfun/soltahr/soltahr_post_07_24.md\n",
            "out to file  /content/drive/My Drive/fbfun/soltahr/soltahr_post_07_25.md\n",
            "out to file  /content/drive/My Drive/fbfun/soltahr/soltahr_post_07_26.md\n",
            "out to file  /content/drive/My Drive/fbfun/soltahr/soltahr_post_07_27.md\n",
            "out to file  /content/drive/My Drive/fbfun/soltahr/soltahr_post_07_28.md\n",
            "out to file  /content/drive/My Drive/fbfun/soltahr/soltahr_post_07_29.md\n",
            "out to file  /content/drive/My Drive/fbfun/soltahr/soltahr_post_07_30.md\n",
            "out to file  /content/drive/My Drive/fbfun/soltahr/soltahr_post_07_31.md\n",
            "out to file  /content/drive/My Drive/fbfun/soltahr/soltahr_post_08_01.md\n"
          ],
          "name": "stdout"
        },
        {
          "output_type": "stream",
          "text": [
            "out to file  /content/drive/My Drive/fbfun/soltahr/soltahr_post_08_02.md\n",
            "out to file  /content/drive/My Drive/fbfun/soltahr/soltahr_post_08_03.md\n",
            "out to file  /content/drive/My Drive/fbfun/soltahr/soltahr_post_08_04.md\n",
            "out to file  /content/drive/My Drive/fbfun/soltahr/soltahr_post_08_05.md\n",
            "out to file  /content/drive/My Drive/fbfun/soltahr/soltahr_post_08_06.md\n",
            "out to file  /content/drive/My Drive/fbfun/soltahr/soltahr_post_08_07.md\n",
            "out to file  /content/drive/My Drive/fbfun/soltahr/soltahr_post_08_08.md\n",
            "out to file  /content/drive/My Drive/fbfun/soltahr/soltahr_post_08_09.md\n",
            "out to file  /content/drive/My Drive/fbfun/soltahr/soltahr_post_08_10.md\n",
            "out to file  /content/drive/My Drive/fbfun/soltahr/soltahr_post_08_11.md\n",
            "out to file  /content/drive/My Drive/fbfun/soltahr/soltahr_post_08_12.md\n",
            "out to file  /content/drive/My Drive/fbfun/soltahr/soltahr_post_08_13.md\n",
            "out to file  /content/drive/My Drive/fbfun/soltahr/soltahr_post_08_14.md\n",
            "out to file  /content/drive/My Drive/fbfun/soltahr/soltahr_post_08_15.md\n",
            "out to file  /content/drive/My Drive/fbfun/soltahr/soltahr_post_08_16.md\n",
            "out to file  /content/drive/My Drive/fbfun/soltahr/soltahr_post_08_17.md\n",
            "out to file  /content/drive/My Drive/fbfun/soltahr/soltahr_post_08_18.md\n",
            "out to file  /content/drive/My Drive/fbfun/soltahr/soltahr_post_08_19.md\n",
            "out to file  /content/drive/My Drive/fbfun/soltahr/soltahr_post_08_20.md\n"
          ],
          "name": "stderr"
        },
        {
          "output_type": "stream",
          "text": [
            "out to file  /content/drive/My Drive/fbfun/soltahr/soltahr_post_08_02.md\n",
            "out to file  /content/drive/My Drive/fbfun/soltahr/soltahr_post_08_03.md\n",
            "out to file  /content/drive/My Drive/fbfun/soltahr/soltahr_post_08_04.md\n",
            "out to file  /content/drive/My Drive/fbfun/soltahr/soltahr_post_08_05.md\n",
            "out to file  /content/drive/My Drive/fbfun/soltahr/soltahr_post_08_06.md\n",
            "out to file  /content/drive/My Drive/fbfun/soltahr/soltahr_post_08_07.md\n",
            "out to file  /content/drive/My Drive/fbfun/soltahr/soltahr_post_08_08.md\n",
            "out to file  /content/drive/My Drive/fbfun/soltahr/soltahr_post_08_09.md\n",
            "out to file  /content/drive/My Drive/fbfun/soltahr/soltahr_post_08_10.md\n",
            "out to file  /content/drive/My Drive/fbfun/soltahr/soltahr_post_08_11.md\n",
            "out to file  /content/drive/My Drive/fbfun/soltahr/soltahr_post_08_12.md\n",
            "out to file  /content/drive/My Drive/fbfun/soltahr/soltahr_post_08_13.md\n",
            "out to file  /content/drive/My Drive/fbfun/soltahr/soltahr_post_08_14.md\n",
            "out to file  /content/drive/My Drive/fbfun/soltahr/soltahr_post_08_15.md\n",
            "out to file  /content/drive/My Drive/fbfun/soltahr/soltahr_post_08_16.md\n",
            "out to file  /content/drive/My Drive/fbfun/soltahr/soltahr_post_08_17.md\n",
            "out to file  /content/drive/My Drive/fbfun/soltahr/soltahr_post_08_18.md\n",
            "out to file  /content/drive/My Drive/fbfun/soltahr/soltahr_post_08_19.md\n",
            "out to file  /content/drive/My Drive/fbfun/soltahr/soltahr_post_08_20.md\n"
          ],
          "name": "stdout"
        },
        {
          "output_type": "stream",
          "text": [
            "out to file  /content/drive/My Drive/fbfun/soltahr/soltahr_post_08_21.md\n",
            "out to file  /content/drive/My Drive/fbfun/soltahr/soltahr_post_08_22.md\n",
            "out to file  /content/drive/My Drive/fbfun/soltahr/soltahr_post_08_23.md\n",
            "out to file  /content/drive/My Drive/fbfun/soltahr/soltahr_post_08_24.md\n",
            "out to file  /content/drive/My Drive/fbfun/soltahr/soltahr_post_08_25.md\n",
            "out to file  /content/drive/My Drive/fbfun/soltahr/soltahr_post_08_26.md\n",
            "out to file  /content/drive/My Drive/fbfun/soltahr/soltahr_post_08_27.md\n",
            "out to file  /content/drive/My Drive/fbfun/soltahr/soltahr_post_08_28.md\n",
            "out to file  /content/drive/My Drive/fbfun/soltahr/soltahr_post_08_29.md\n",
            "out to file  /content/drive/My Drive/fbfun/soltahr/soltahr_post_08_30.md\n",
            "out to file  /content/drive/My Drive/fbfun/soltahr/soltahr_post_08_31.md\n",
            "out to file  /content/drive/My Drive/fbfun/soltahr/soltahr_post_09_01.md\n",
            "out to file  /content/drive/My Drive/fbfun/soltahr/soltahr_post_09_02.md\n",
            "out to file  /content/drive/My Drive/fbfun/soltahr/soltahr_post_09_03.md\n",
            "out to file  /content/drive/My Drive/fbfun/soltahr/soltahr_post_09_04.md\n",
            "out to file  /content/drive/My Drive/fbfun/soltahr/soltahr_post_09_05.md\n",
            "out to file  /content/drive/My Drive/fbfun/soltahr/soltahr_post_09_06.md\n"
          ],
          "name": "stderr"
        },
        {
          "output_type": "stream",
          "text": [
            "out to file  /content/drive/My Drive/fbfun/soltahr/soltahr_post_08_21.md\n",
            "out to file  /content/drive/My Drive/fbfun/soltahr/soltahr_post_08_22.md\n",
            "out to file  /content/drive/My Drive/fbfun/soltahr/soltahr_post_08_23.md\n",
            "out to file  /content/drive/My Drive/fbfun/soltahr/soltahr_post_08_24.md\n",
            "out to file  /content/drive/My Drive/fbfun/soltahr/soltahr_post_08_25.md\n",
            "out to file  /content/drive/My Drive/fbfun/soltahr/soltahr_post_08_26.md\n",
            "out to file  /content/drive/My Drive/fbfun/soltahr/soltahr_post_08_27.md\n",
            "out to file  /content/drive/My Drive/fbfun/soltahr/soltahr_post_08_28.md\n",
            "out to file  /content/drive/My Drive/fbfun/soltahr/soltahr_post_08_29.md\n",
            "out to file  /content/drive/My Drive/fbfun/soltahr/soltahr_post_08_30.md\n",
            "out to file  /content/drive/My Drive/fbfun/soltahr/soltahr_post_08_31.md\n",
            "out to file  /content/drive/My Drive/fbfun/soltahr/soltahr_post_09_01.md\n",
            "out to file  /content/drive/My Drive/fbfun/soltahr/soltahr_post_09_02.md\n",
            "out to file  /content/drive/My Drive/fbfun/soltahr/soltahr_post_09_03.md\n",
            "out to file  /content/drive/My Drive/fbfun/soltahr/soltahr_post_09_04.md\n",
            "out to file  /content/drive/My Drive/fbfun/soltahr/soltahr_post_09_05.md\n",
            "out to file  /content/drive/My Drive/fbfun/soltahr/soltahr_post_09_06.md\n"
          ],
          "name": "stdout"
        },
        {
          "output_type": "stream",
          "text": [
            "out to file  /content/drive/My Drive/fbfun/soltahr/soltahr_post_09_07.md\n",
            "out to file  /content/drive/My Drive/fbfun/soltahr/soltahr_post_09_08.md\n",
            "out to file  /content/drive/My Drive/fbfun/soltahr/soltahr_post_09_09.md\n",
            "out to file  /content/drive/My Drive/fbfun/soltahr/soltahr_post_09_10.md\n",
            "out to file  /content/drive/My Drive/fbfun/soltahr/soltahr_post_09_11.md\n",
            "out to file  /content/drive/My Drive/fbfun/soltahr/soltahr_post_09_12.md\n",
            "out to file  /content/drive/My Drive/fbfun/soltahr/soltahr_post_09_13.md\n",
            "out to file  /content/drive/My Drive/fbfun/soltahr/soltahr_post_09_14.md\n",
            "out to file  /content/drive/My Drive/fbfun/soltahr/soltahr_post_09_15.md\n",
            "out to file  /content/drive/My Drive/fbfun/soltahr/soltahr_post_09_16.md\n",
            "out to file  /content/drive/My Drive/fbfun/soltahr/soltahr_post_09_17.md\n",
            "out to file  /content/drive/My Drive/fbfun/soltahr/soltahr_post_09_18.md\n",
            "out to file  /content/drive/My Drive/fbfun/soltahr/soltahr_post_09_19.md\n",
            "out to file  /content/drive/My Drive/fbfun/soltahr/soltahr_post_09_20.md\n",
            "out to file  /content/drive/My Drive/fbfun/soltahr/soltahr_post_09_21.md\n"
          ],
          "name": "stderr"
        },
        {
          "output_type": "stream",
          "text": [
            "out to file  /content/drive/My Drive/fbfun/soltahr/soltahr_post_09_07.md\n",
            "out to file  /content/drive/My Drive/fbfun/soltahr/soltahr_post_09_08.md\n",
            "out to file  /content/drive/My Drive/fbfun/soltahr/soltahr_post_09_09.md\n",
            "out to file  /content/drive/My Drive/fbfun/soltahr/soltahr_post_09_10.md\n",
            "out to file  /content/drive/My Drive/fbfun/soltahr/soltahr_post_09_11.md\n",
            "out to file  /content/drive/My Drive/fbfun/soltahr/soltahr_post_09_12.md\n",
            "out to file  /content/drive/My Drive/fbfun/soltahr/soltahr_post_09_13.md\n",
            "out to file  /content/drive/My Drive/fbfun/soltahr/soltahr_post_09_14.md\n",
            "out to file  /content/drive/My Drive/fbfun/soltahr/soltahr_post_09_15.md\n",
            "out to file  /content/drive/My Drive/fbfun/soltahr/soltahr_post_09_16.md\n",
            "out to file  /content/drive/My Drive/fbfun/soltahr/soltahr_post_09_17.md\n",
            "out to file  /content/drive/My Drive/fbfun/soltahr/soltahr_post_09_18.md\n",
            "out to file  /content/drive/My Drive/fbfun/soltahr/soltahr_post_09_19.md\n",
            "out to file  /content/drive/My Drive/fbfun/soltahr/soltahr_post_09_20.md\n",
            "out to file  /content/drive/My Drive/fbfun/soltahr/soltahr_post_09_21.md\n"
          ],
          "name": "stdout"
        },
        {
          "output_type": "stream",
          "text": [
            "out to file  /content/drive/My Drive/fbfun/soltahr/soltahr_post_09_22.md\n",
            "out to file  /content/drive/My Drive/fbfun/soltahr/soltahr_post_09_23.md\n",
            "out to file  /content/drive/My Drive/fbfun/soltahr/soltahr_post_09_24.md\n",
            "out to file  /content/drive/My Drive/fbfun/soltahr/soltahr_post_09_25.md\n",
            "out to file  /content/drive/My Drive/fbfun/soltahr/soltahr_post_09_26.md\n",
            "out to file  /content/drive/My Drive/fbfun/soltahr/soltahr_post_09_27.md\n",
            "out to file  /content/drive/My Drive/fbfun/soltahr/soltahr_post_09_28.md\n",
            "out to file  /content/drive/My Drive/fbfun/soltahr/soltahr_post_09_29.md\n",
            "out to file  /content/drive/My Drive/fbfun/soltahr/soltahr_post_09_30.md\n",
            "out to file  /content/drive/My Drive/fbfun/soltahr/soltahr_post_09_31.md\n",
            "out to file  /content/drive/My Drive/fbfun/soltahr/soltahr_post_10_01.md\n",
            "out to file  /content/drive/My Drive/fbfun/soltahr/soltahr_post_10_02.md\n",
            "out to file  /content/drive/My Drive/fbfun/soltahr/soltahr_post_10_03.md\n",
            "out to file  /content/drive/My Drive/fbfun/soltahr/soltahr_post_10_04.md\n",
            "out to file  /content/drive/My Drive/fbfun/soltahr/soltahr_post_10_05.md\n",
            "out to file  /content/drive/My Drive/fbfun/soltahr/soltahr_post_10_06.md\n"
          ],
          "name": "stderr"
        },
        {
          "output_type": "stream",
          "text": [
            "out to file  /content/drive/My Drive/fbfun/soltahr/soltahr_post_09_22.md\n",
            "out to file  /content/drive/My Drive/fbfun/soltahr/soltahr_post_09_23.md\n",
            "out to file  /content/drive/My Drive/fbfun/soltahr/soltahr_post_09_24.md\n",
            "out to file  /content/drive/My Drive/fbfun/soltahr/soltahr_post_09_25.md\n",
            "out to file  /content/drive/My Drive/fbfun/soltahr/soltahr_post_09_26.md\n",
            "out to file  /content/drive/My Drive/fbfun/soltahr/soltahr_post_09_27.md\n",
            "out to file  /content/drive/My Drive/fbfun/soltahr/soltahr_post_09_28.md\n",
            "out to file  /content/drive/My Drive/fbfun/soltahr/soltahr_post_09_29.md\n",
            "out to file  /content/drive/My Drive/fbfun/soltahr/soltahr_post_09_30.md\n",
            "out to file  /content/drive/My Drive/fbfun/soltahr/soltahr_post_09_31.md\n",
            "out to file  /content/drive/My Drive/fbfun/soltahr/soltahr_post_10_01.md\n",
            "out to file  /content/drive/My Drive/fbfun/soltahr/soltahr_post_10_02.md\n",
            "out to file  /content/drive/My Drive/fbfun/soltahr/soltahr_post_10_03.md\n",
            "out to file  /content/drive/My Drive/fbfun/soltahr/soltahr_post_10_04.md\n",
            "out to file  /content/drive/My Drive/fbfun/soltahr/soltahr_post_10_05.md\n",
            "out to file  /content/drive/My Drive/fbfun/soltahr/soltahr_post_10_06.md\n"
          ],
          "name": "stdout"
        },
        {
          "output_type": "stream",
          "text": [
            "out to file  /content/drive/My Drive/fbfun/soltahr/soltahr_post_10_07.md\n",
            "out to file  /content/drive/My Drive/fbfun/soltahr/soltahr_post_10_08.md\n",
            "out to file  /content/drive/My Drive/fbfun/soltahr/soltahr_post_10_09.md\n",
            "out to file  /content/drive/My Drive/fbfun/soltahr/soltahr_post_10_10.md\n",
            "out to file  /content/drive/My Drive/fbfun/soltahr/soltahr_post_10_11.md\n",
            "out to file  /content/drive/My Drive/fbfun/soltahr/soltahr_post_10_12.md\n",
            "out to file  /content/drive/My Drive/fbfun/soltahr/soltahr_post_10_13.md\n",
            "out to file  /content/drive/My Drive/fbfun/soltahr/soltahr_post_10_14.md\n",
            "out to file  /content/drive/My Drive/fbfun/soltahr/soltahr_post_10_15.md\n",
            "out to file  /content/drive/My Drive/fbfun/soltahr/soltahr_post_10_16.md\n",
            "out to file  /content/drive/My Drive/fbfun/soltahr/soltahr_post_10_17.md\n",
            "out to file  /content/drive/My Drive/fbfun/soltahr/soltahr_post_10_18.md\n",
            "out to file  /content/drive/My Drive/fbfun/soltahr/soltahr_post_10_19.md\n",
            "out to file  /content/drive/My Drive/fbfun/soltahr/soltahr_post_10_20.md\n",
            "out to file  /content/drive/My Drive/fbfun/soltahr/soltahr_post_10_21.md\n"
          ],
          "name": "stderr"
        },
        {
          "output_type": "stream",
          "text": [
            "out to file  /content/drive/My Drive/fbfun/soltahr/soltahr_post_10_07.md\n",
            "out to file  /content/drive/My Drive/fbfun/soltahr/soltahr_post_10_08.md\n",
            "out to file  /content/drive/My Drive/fbfun/soltahr/soltahr_post_10_09.md\n",
            "out to file  /content/drive/My Drive/fbfun/soltahr/soltahr_post_10_10.md\n",
            "out to file  /content/drive/My Drive/fbfun/soltahr/soltahr_post_10_11.md\n",
            "out to file  /content/drive/My Drive/fbfun/soltahr/soltahr_post_10_12.md\n",
            "out to file  /content/drive/My Drive/fbfun/soltahr/soltahr_post_10_13.md\n",
            "out to file  /content/drive/My Drive/fbfun/soltahr/soltahr_post_10_14.md\n",
            "out to file  /content/drive/My Drive/fbfun/soltahr/soltahr_post_10_15.md\n",
            "out to file  /content/drive/My Drive/fbfun/soltahr/soltahr_post_10_16.md\n",
            "out to file  /content/drive/My Drive/fbfun/soltahr/soltahr_post_10_17.md\n",
            "out to file  /content/drive/My Drive/fbfun/soltahr/soltahr_post_10_18.md\n",
            "out to file  /content/drive/My Drive/fbfun/soltahr/soltahr_post_10_19.md\n",
            "out to file  /content/drive/My Drive/fbfun/soltahr/soltahr_post_10_20.md\n",
            "out to file  /content/drive/My Drive/fbfun/soltahr/soltahr_post_10_21.md\n"
          ],
          "name": "stdout"
        },
        {
          "output_type": "stream",
          "text": [
            "out to file  /content/drive/My Drive/fbfun/soltahr/soltahr_post_10_22.md\n",
            "out to file  /content/drive/My Drive/fbfun/soltahr/soltahr_post_10_23.md\n",
            "out to file  /content/drive/My Drive/fbfun/soltahr/soltahr_post_10_24.md\n",
            "out to file  /content/drive/My Drive/fbfun/soltahr/soltahr_post_10_25.md\n",
            "out to file  /content/drive/My Drive/fbfun/soltahr/soltahr_post_10_26.md\n",
            "out to file  /content/drive/My Drive/fbfun/soltahr/soltahr_post_10_27.md\n",
            "out to file  /content/drive/My Drive/fbfun/soltahr/soltahr_post_10_28.md\n",
            "out to file  /content/drive/My Drive/fbfun/soltahr/soltahr_post_10_29.md\n",
            "out to file  /content/drive/My Drive/fbfun/soltahr/soltahr_post_10_30.md\n",
            "out to file  /content/drive/My Drive/fbfun/soltahr/soltahr_post_10_31.md\n",
            "out to file  /content/drive/My Drive/fbfun/soltahr/soltahr_post_11_01.md\n",
            "out to file  /content/drive/My Drive/fbfun/soltahr/soltahr_post_11_02.md\n",
            "out to file  /content/drive/My Drive/fbfun/soltahr/soltahr_post_11_03.md\n",
            "out to file  /content/drive/My Drive/fbfun/soltahr/soltahr_post_11_04.md\n",
            "out to file  /content/drive/My Drive/fbfun/soltahr/soltahr_post_11_05.md\n",
            "out to file  /content/drive/My Drive/fbfun/soltahr/soltahr_post_11_06.md\n"
          ],
          "name": "stderr"
        },
        {
          "output_type": "stream",
          "text": [
            "out to file  /content/drive/My Drive/fbfun/soltahr/soltahr_post_10_22.md\n",
            "out to file  /content/drive/My Drive/fbfun/soltahr/soltahr_post_10_23.md\n",
            "out to file  /content/drive/My Drive/fbfun/soltahr/soltahr_post_10_24.md\n",
            "out to file  /content/drive/My Drive/fbfun/soltahr/soltahr_post_10_25.md\n",
            "out to file  /content/drive/My Drive/fbfun/soltahr/soltahr_post_10_26.md\n",
            "out to file  /content/drive/My Drive/fbfun/soltahr/soltahr_post_10_27.md\n",
            "out to file  /content/drive/My Drive/fbfun/soltahr/soltahr_post_10_28.md\n",
            "out to file  /content/drive/My Drive/fbfun/soltahr/soltahr_post_10_29.md\n",
            "out to file  /content/drive/My Drive/fbfun/soltahr/soltahr_post_10_30.md\n",
            "out to file  /content/drive/My Drive/fbfun/soltahr/soltahr_post_10_31.md\n",
            "out to file  /content/drive/My Drive/fbfun/soltahr/soltahr_post_11_01.md\n",
            "out to file  /content/drive/My Drive/fbfun/soltahr/soltahr_post_11_02.md\n",
            "out to file  /content/drive/My Drive/fbfun/soltahr/soltahr_post_11_03.md\n",
            "out to file  /content/drive/My Drive/fbfun/soltahr/soltahr_post_11_04.md\n",
            "out to file  /content/drive/My Drive/fbfun/soltahr/soltahr_post_11_05.md\n",
            "out to file  /content/drive/My Drive/fbfun/soltahr/soltahr_post_11_06.md\n"
          ],
          "name": "stdout"
        },
        {
          "output_type": "stream",
          "text": [
            "out to file  /content/drive/My Drive/fbfun/soltahr/soltahr_post_11_07.md\n",
            "out to file  /content/drive/My Drive/fbfun/soltahr/soltahr_post_11_08.md\n",
            "out to file  /content/drive/My Drive/fbfun/soltahr/soltahr_post_11_09.md\n",
            "out to file  /content/drive/My Drive/fbfun/soltahr/soltahr_post_11_10.md\n",
            "out to file  /content/drive/My Drive/fbfun/soltahr/soltahr_post_11_11.md\n",
            "out to file  /content/drive/My Drive/fbfun/soltahr/soltahr_post_11_12.md\n",
            "out to file  /content/drive/My Drive/fbfun/soltahr/soltahr_post_11_13.md\n",
            "out to file  /content/drive/My Drive/fbfun/soltahr/soltahr_post_11_14.md\n",
            "out to file  /content/drive/My Drive/fbfun/soltahr/soltahr_post_11_15.md\n",
            "out to file  /content/drive/My Drive/fbfun/soltahr/soltahr_post_11_16.md\n",
            "out to file  /content/drive/My Drive/fbfun/soltahr/soltahr_post_11_17.md\n",
            "out to file  /content/drive/My Drive/fbfun/soltahr/soltahr_post_11_18.md\n",
            "out to file  /content/drive/My Drive/fbfun/soltahr/soltahr_post_11_19.md\n"
          ],
          "name": "stderr"
        },
        {
          "output_type": "stream",
          "text": [
            "out to file  /content/drive/My Drive/fbfun/soltahr/soltahr_post_11_07.md\n",
            "out to file  /content/drive/My Drive/fbfun/soltahr/soltahr_post_11_08.md\n",
            "out to file  /content/drive/My Drive/fbfun/soltahr/soltahr_post_11_09.md\n",
            "out to file  /content/drive/My Drive/fbfun/soltahr/soltahr_post_11_10.md\n",
            "out to file  /content/drive/My Drive/fbfun/soltahr/soltahr_post_11_11.md\n",
            "out to file  /content/drive/My Drive/fbfun/soltahr/soltahr_post_11_12.md\n",
            "out to file  /content/drive/My Drive/fbfun/soltahr/soltahr_post_11_13.md\n",
            "out to file  /content/drive/My Drive/fbfun/soltahr/soltahr_post_11_14.md\n",
            "out to file  /content/drive/My Drive/fbfun/soltahr/soltahr_post_11_15.md\n",
            "out to file  /content/drive/My Drive/fbfun/soltahr/soltahr_post_11_16.md\n",
            "out to file  /content/drive/My Drive/fbfun/soltahr/soltahr_post_11_17.md\n",
            "out to file  /content/drive/My Drive/fbfun/soltahr/soltahr_post_11_18.md\n",
            "out to file  /content/drive/My Drive/fbfun/soltahr/soltahr_post_11_19.md\n"
          ],
          "name": "stdout"
        },
        {
          "output_type": "stream",
          "text": [
            "out to file  /content/drive/My Drive/fbfun/soltahr/soltahr_post_11_20.md\n",
            "out to file  /content/drive/My Drive/fbfun/soltahr/soltahr_post_11_21.md\n",
            "out to file  /content/drive/My Drive/fbfun/soltahr/soltahr_post_11_22.md\n",
            "out to file  /content/drive/My Drive/fbfun/soltahr/soltahr_post_11_23.md\n",
            "out to file  /content/drive/My Drive/fbfun/soltahr/soltahr_post_11_24.md\n",
            "out to file  /content/drive/My Drive/fbfun/soltahr/soltahr_post_11_25.md\n",
            "out to file  /content/drive/My Drive/fbfun/soltahr/soltahr_post_11_26.md\n",
            "out to file  /content/drive/My Drive/fbfun/soltahr/soltahr_post_11_27.md\n",
            "out to file  /content/drive/My Drive/fbfun/soltahr/soltahr_post_11_28.md\n",
            "out to file  /content/drive/My Drive/fbfun/soltahr/soltahr_post_11_29.md\n",
            "out to file  /content/drive/My Drive/fbfun/soltahr/soltahr_post_11_30.md\n",
            "out to file  /content/drive/My Drive/fbfun/soltahr/soltahr_post_11_31.md\n",
            "out to file  /content/drive/My Drive/fbfun/soltahr/soltahr_post_12_01.md\n",
            "out to file  /content/drive/My Drive/fbfun/soltahr/soltahr_post_12_02.md\n",
            "out to file  /content/drive/My Drive/fbfun/soltahr/soltahr_post_12_03.md\n"
          ],
          "name": "stderr"
        },
        {
          "output_type": "stream",
          "text": [
            "out to file  /content/drive/My Drive/fbfun/soltahr/soltahr_post_11_20.md\n",
            "out to file  /content/drive/My Drive/fbfun/soltahr/soltahr_post_11_21.md\n",
            "out to file  /content/drive/My Drive/fbfun/soltahr/soltahr_post_11_22.md\n",
            "out to file  /content/drive/My Drive/fbfun/soltahr/soltahr_post_11_23.md\n",
            "out to file  /content/drive/My Drive/fbfun/soltahr/soltahr_post_11_24.md\n",
            "out to file  /content/drive/My Drive/fbfun/soltahr/soltahr_post_11_25.md\n",
            "out to file  /content/drive/My Drive/fbfun/soltahr/soltahr_post_11_26.md\n",
            "out to file  /content/drive/My Drive/fbfun/soltahr/soltahr_post_11_27.md\n",
            "out to file  /content/drive/My Drive/fbfun/soltahr/soltahr_post_11_28.md\n",
            "out to file  /content/drive/My Drive/fbfun/soltahr/soltahr_post_11_29.md\n",
            "out to file  /content/drive/My Drive/fbfun/soltahr/soltahr_post_11_30.md\n",
            "out to file  /content/drive/My Drive/fbfun/soltahr/soltahr_post_11_31.md\n",
            "out to file  /content/drive/My Drive/fbfun/soltahr/soltahr_post_12_01.md\n",
            "out to file  /content/drive/My Drive/fbfun/soltahr/soltahr_post_12_02.md\n",
            "out to file  /content/drive/My Drive/fbfun/soltahr/soltahr_post_12_03.md\n"
          ],
          "name": "stdout"
        },
        {
          "output_type": "stream",
          "text": [
            "out to file  /content/drive/My Drive/fbfun/soltahr/soltahr_post_12_04.md\n",
            "out to file  /content/drive/My Drive/fbfun/soltahr/soltahr_post_12_05.md\n",
            "out to file  /content/drive/My Drive/fbfun/soltahr/soltahr_post_12_06.md\n",
            "out to file  /content/drive/My Drive/fbfun/soltahr/soltahr_post_12_07.md\n",
            "out to file  /content/drive/My Drive/fbfun/soltahr/soltahr_post_12_08.md\n",
            "out to file  /content/drive/My Drive/fbfun/soltahr/soltahr_post_12_09.md\n",
            "out to file  /content/drive/My Drive/fbfun/soltahr/soltahr_post_12_10.md\n",
            "out to file  /content/drive/My Drive/fbfun/soltahr/soltahr_post_12_11.md\n",
            "out to file  /content/drive/My Drive/fbfun/soltahr/soltahr_post_12_12.md\n",
            "out to file  /content/drive/My Drive/fbfun/soltahr/soltahr_post_12_13.md\n",
            "out to file  /content/drive/My Drive/fbfun/soltahr/soltahr_post_12_14.md\n",
            "out to file  /content/drive/My Drive/fbfun/soltahr/soltahr_post_12_15.md\n",
            "out to file  /content/drive/My Drive/fbfun/soltahr/soltahr_post_12_16.md\n",
            "out to file  /content/drive/My Drive/fbfun/soltahr/soltahr_post_12_17.md\n",
            "out to file  /content/drive/My Drive/fbfun/soltahr/soltahr_post_12_18.md\n"
          ],
          "name": "stderr"
        },
        {
          "output_type": "stream",
          "text": [
            "out to file  /content/drive/My Drive/fbfun/soltahr/soltahr_post_12_04.md\n",
            "out to file  /content/drive/My Drive/fbfun/soltahr/soltahr_post_12_05.md\n",
            "out to file  /content/drive/My Drive/fbfun/soltahr/soltahr_post_12_06.md\n",
            "out to file  /content/drive/My Drive/fbfun/soltahr/soltahr_post_12_07.md\n",
            "out to file  /content/drive/My Drive/fbfun/soltahr/soltahr_post_12_08.md\n",
            "out to file  /content/drive/My Drive/fbfun/soltahr/soltahr_post_12_09.md\n",
            "out to file  /content/drive/My Drive/fbfun/soltahr/soltahr_post_12_10.md\n",
            "out to file  /content/drive/My Drive/fbfun/soltahr/soltahr_post_12_11.md\n",
            "out to file  /content/drive/My Drive/fbfun/soltahr/soltahr_post_12_12.md\n",
            "out to file  /content/drive/My Drive/fbfun/soltahr/soltahr_post_12_13.md\n",
            "out to file  /content/drive/My Drive/fbfun/soltahr/soltahr_post_12_14.md\n",
            "out to file  /content/drive/My Drive/fbfun/soltahr/soltahr_post_12_15.md\n",
            "out to file  /content/drive/My Drive/fbfun/soltahr/soltahr_post_12_16.md\n",
            "out to file  /content/drive/My Drive/fbfun/soltahr/soltahr_post_12_17.md\n",
            "out to file  /content/drive/My Drive/fbfun/soltahr/soltahr_post_12_18.md\n",
            "out to file  /content/drive/My Drive/fbfun/soltahr/soltahr_post_12_19.md\n",
            "out to file  /content/drive/My Drive/fbfun/soltahr/soltahr_post_12_20.md\n",
            "out to file  /content/drive/My Drive/fbfun/soltahr/soltahr_post_12_21.md\n",
            "out to file  /content/drive/My Drive/fbfun/soltahr/soltahr_post_12_22.md\n",
            "out to file  /content/drive/My Drive/fbfun/soltahr/soltahr_post_12_23.md\n",
            "out to file  /content/drive/My Drive/fbfun/soltahr/soltahr_post_12_24.md\n",
            "out to file  /content/drive/My Drive/fbfun/soltahr/soltahr_post_12_25.md\n",
            "out to file  /content/drive/My Drive/fbfun/soltahr/soltahr_post_12_26.md\n",
            "out to file  /content/drive/My Drive/fbfun/soltahr/soltahr_post_12_27.md\n",
            "out to file  /content/drive/My Drive/fbfun/soltahr/soltahr_post_12_28.md\n",
            "out to file  /content/drive/My Drive/fbfun/soltahr/soltahr_post_12_29.md\n",
            "out to file  /content/drive/My Drive/fbfun/soltahr/soltahr_post_12_30.md\n",
            "out to file  /content/drive/My Drive/fbfun/soltahr/soltahr_post_12_31.md\n"
          ],
          "name": "stdout"
        },
        {
          "output_type": "stream",
          "text": [
            "out to file  /content/drive/My Drive/fbfun/soltahr/soltahr_post_12_19.md\n",
            "out to file  /content/drive/My Drive/fbfun/soltahr/soltahr_post_12_20.md\n",
            "out to file  /content/drive/My Drive/fbfun/soltahr/soltahr_post_12_21.md\n",
            "out to file  /content/drive/My Drive/fbfun/soltahr/soltahr_post_12_22.md\n",
            "out to file  /content/drive/My Drive/fbfun/soltahr/soltahr_post_12_23.md\n",
            "out to file  /content/drive/My Drive/fbfun/soltahr/soltahr_post_12_24.md\n",
            "out to file  /content/drive/My Drive/fbfun/soltahr/soltahr_post_12_25.md\n",
            "out to file  /content/drive/My Drive/fbfun/soltahr/soltahr_post_12_26.md\n",
            "out to file  /content/drive/My Drive/fbfun/soltahr/soltahr_post_12_27.md\n",
            "out to file  /content/drive/My Drive/fbfun/soltahr/soltahr_post_12_28.md\n",
            "out to file  /content/drive/My Drive/fbfun/soltahr/soltahr_post_12_29.md\n",
            "out to file  /content/drive/My Drive/fbfun/soltahr/soltahr_post_12_30.md\n",
            "out to file  /content/drive/My Drive/fbfun/soltahr/soltahr_post_12_31.md\n",
            "and on to the next thing\n"
          ],
          "name": "stderr"
        }
      ]
    },
    {
      "cell_type": "code",
      "metadata": {
        "id": "xP0c4q5fU_RM",
        "colab_type": "code",
        "colab": {}
      },
      "source": [
        "#!bash\n"
      ],
      "execution_count": 20,
      "outputs": []
    },
    {
      "cell_type": "code",
      "metadata": {
        "id": "cizZ_0E4GWRm",
        "colab_type": "code",
        "colab": {
          "base_uri": "https://localhost:8080/",
          "height": 34
        },
        "outputId": "03b638e5-db99-4955-84d2-e01d6829fc4b"
      },
      "source": [
        "import requests\n",
        "from bs4 import BeautifulSoup\n",
        "\n",
        "url = 'https://www.huffpost.com/entry/girltrek-harriet-tubman-walking-journey_n_5a9ff20ae4b0e9381c1433b5'\n",
        "\n",
        "response = requests.get(url)\n",
        "soup = BeautifulSoup(response.text)\n",
        "\n",
        "metas = soup.find_all('meta')\n",
        "\n",
        "print ([ meta.attrs['content'] for meta in metas if 'name' in meta.attrs and meta.attrs['name'] == 'description' ])"
      ],
      "execution_count": 21,
      "outputs": [
        {
          "output_type": "stream",
          "text": [
            "[]\n"
          ],
          "name": "stdout"
        }
      ]
    }
  ]
}