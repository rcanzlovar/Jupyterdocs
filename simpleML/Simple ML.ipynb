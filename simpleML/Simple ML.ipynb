{
 "cells": [
  {
   "cell_type": "markdown",
   "metadata": {},
   "source": [
    "# Simple Machine Learning - a model which learns how to add two numbers"
   ]
  },
  {
   "cell_type": "code",
   "execution_count": 3,
   "metadata": {},
   "outputs": [],
   "source": [
    "import numpy as np \n",
    "try:\n",
    "    import pandas as pd\n",
    "except ModuleNotFoundError:\n",
    "    ! pip3 install pandas\n",
    "    import pandas as pd\n",
    "    \n",
    "np.set_printoptions(suppress='true',precision=1)    \n",
    "   "
   ]
  },
  {
   "cell_type": "code",
   "execution_count": 4,
   "metadata": {},
   "outputs": [],
   "source": [
    "# The original data generating thing. just every few numbers. \n",
    "# worked ok if you made it every single number\n",
    "# generate the training data as a simple formula\n",
    "train_data = np.array([[1.0,1.0]])\n",
    "train_targets = np.array([2.0])\n",
    "for i in range(20,10000,1):\n",
    "    train_data= np.append(train_data,[[i,i*2]],axis=0)\n",
    "    train_targets= np.append(train_targets,[i+i*2])\n",
    "\n",
    "# not a particularly representative lot\n",
    "test_data = np.array([[2.0,2.0]])\n",
    "test_targets = np.array([4.0])\n",
    "for i in range(4,8000,4):\n",
    "    test_data = np.append(test_data,[[i,i*2]],axis=0)\n",
    "    test_targets = np.append(test_targets,[i+i*2])"
   ]
  },
  {
   "cell_type": "markdown",
   "metadata": {},
   "source": [
    "## Latin Hypercube data sets"
   ]
  },
  {
   "cell_type": "code",
   "execution_count": 6,
   "metadata": {},
   "outputs": [
    {
     "name": "stdout",
     "output_type": "stream",
     "text": [
      "Collecting lhsmdu\n",
      "  Downloading lhsmdu-0.1-py3-none-any.whl (5.0 kB)\n",
      "Requirement already satisfied: scipy in /usr/local/lib/python3.6/dist-packages (from lhsmdu) (1.4.1)\n",
      "Requirement already satisfied: numpy in /usr/local/lib/python3.6/dist-packages (from lhsmdu) (1.18.4)\n",
      "Installing collected packages: lhsmdu\n",
      "Successfully installed lhsmdu-0.1\n",
      "\u001b[33mWARNING: You are using pip version 20.1; however, version 20.1.1 is available.\n",
      "You should consider upgrading via the '/usr/bin/python3 -m pip install --upgrade pip' command.\u001b[0m\n"
     ]
    }
   ],
   "source": [
    "# now use the latin hypercube to make a sample \n",
    "try:\n",
    "    import lhsmdu\n",
    "except ModuleNotFoundError:\n",
    "    ! pip3 install lhsmdu\n",
    "    import lhsmdu\n",
    "    \n",
    "import matplotlib.pyplot as plt\n",
    "import numpy\n",
    "from numpy import array\n",
    "\n",
    "# print 5 digits of precision\n",
    "np.set_printoptions(suppress='true',precision=5) \n"
   ]
  },
  {
   "cell_type": "code",
   "execution_count": 7,
   "metadata": {},
   "outputs": [],
   "source": [
    "# First generate the test data with Latin Hypercube\n",
    "l = lhsmdu.sample(10000,2,randomSeed=10) # Latin Hypercube Sampling of two variables, and 10 samples each.\n",
    "\n",
    "# coming out it's a fraction between 0 and 1. Move the decimal over a bit... \n",
    "m= l * 10000\n",
    "\n",
    "trainx_data = np.array([[1.0,1.0]])\n",
    "trainx_targets = np.array([2.0])\n",
    "\n",
    "for list in m:\n",
    "    # it's [[i,j]] - a matrix. kinda hard to reach in there. Change it to an array\n",
    "    # and you can subscript it and round to an integer\n",
    "    a = array(list)\n",
    "    i = round(a[0][0])\n",
    "    j = round(a[0][1])\n",
    "    # 1 = addition\n",
    "    trainx_data= np.append(trainx_data,[[i,j]],axis=0)\n",
    "    trainx_targets= np.append(trainx_targets,[i+j])\n",
    "\n"
   ]
  },
  {
   "cell_type": "code",
   "execution_count": 8,
   "metadata": {},
   "outputs": [],
   "source": [
    "# Use Monte Carlo Sampling this time \n",
    "\n",
    "k = lhsmdu.createRandomStandardUniformMatrix(10000,2) # Monte Carlo Sampling\n",
    "n = k * 10000\n",
    "\n",
    "testx_data = np.array([[1.0,1.0]])\n",
    "testx_targets = np.array([2.0])\n",
    "\n",
    "for list in n:\n",
    "    # it's [[i,j]] - a matrix. kinda hard to reach in there. Change it to an array\n",
    "    # and you can subscript it and round to an integer\n",
    "    a = array(list)\n",
    "    i = round(a[0][0])\n",
    "    j = round(a[0][1])\n",
    "    # make a third \n",
    " \n",
    "    testx_data= np.append(testx_data,[[i,j]],axis=0)\n",
    "    testx_targets= np.append(testx_targets,[i+j])"
   ]
  },
  {
   "cell_type": "code",
   "execution_count": 9,
   "metadata": {},
   "outputs": [
    {
     "name": "stdout",
     "output_type": "stream",
     "text": [
      "trainx_data\n",
      " [[   1.    1.]\n",
      " [6095.   85.]\n",
      " [3492. 8466.]\n",
      " ...\n",
      " [2178. 5480.]\n",
      " [4681. 5215.]\n",
      " [6073. 3834.]]\n",
      "test_data\n",
      " [[    2.     2.]\n",
      " [    4.     8.]\n",
      " [    8.    16.]\n",
      " ...\n",
      " [ 7988. 15976.]\n",
      " [ 7992. 15984.]\n",
      " [ 7996. 15992.]]\n"
     ]
    }
   ],
   "source": [
    "print(\"trainx_data\\n\",trainx_data)\n",
    "print(\"test_data\\n\",test_data)"
   ]
  },
  {
   "cell_type": "code",
   "execution_count": null,
   "metadata": {},
   "outputs": [],
   "source": [
    "\n"
   ]
  },
  {
   "cell_type": "code",
   "execution_count": null,
   "metadata": {},
   "outputs": [],
   "source": [
    "\n",
    "\n"
   ]
  },
  {
   "cell_type": "markdown",
   "metadata": {},
   "source": []
  },
  {
   "cell_type": "code",
   "execution_count": null,
   "metadata": {},
   "outputs": [],
   "source": []
  },
  {
   "cell_type": "code",
   "execution_count": 10,
   "metadata": {},
   "outputs": [
    {
     "data": {
      "text/plain": [
       "array([    2.,  6180., 11958., 12393.])"
      ]
     },
     "execution_count": 10,
     "metadata": {},
     "output_type": "execute_result"
    }
   ],
   "source": [
    "trainx_targets[0:4]"
   ]
  },
  {
   "cell_type": "code",
   "execution_count": 11,
   "metadata": {},
   "outputs": [
    {
     "data": {
      "text/plain": [
       "(10001, 2)"
      ]
     },
     "execution_count": 11,
     "metadata": {},
     "output_type": "execute_result"
    }
   ],
   "source": [
    "trainx_data.shape\n"
   ]
  },
  {
   "cell_type": "markdown",
   "metadata": {},
   "source": [
    "## Train the model"
   ]
  },
  {
   "cell_type": "code",
   "execution_count": 13,
   "metadata": {
    "scrolled": true
   },
   "outputs": [
    {
     "name": "stdout",
     "output_type": "stream",
     "text": [
      "Epoch 1/12\n",
      "201/201 [==============================] - 1s 3ms/step - loss: 1823552.0000 - mae: 455.9235\n",
      "Epoch 2/12\n",
      "201/201 [==============================] - 1s 3ms/step - loss: 172.9953 - mae: 9.7963\n",
      "Epoch 3/12\n",
      "201/201 [==============================] - 1s 3ms/step - loss: 52.1010 - mae: 5.3261\n",
      "Epoch 4/12\n",
      "201/201 [==============================] - 1s 3ms/step - loss: 18.8851 - mae: 3.1823\n",
      "Epoch 5/12\n",
      "201/201 [==============================] - 1s 3ms/step - loss: 8.9618 - mae: 2.1910\n",
      "Epoch 6/12\n",
      "201/201 [==============================] - 1s 3ms/step - loss: 5.4376 - mae: 1.7176\n",
      "Epoch 7/12\n",
      "201/201 [==============================] - 1s 3ms/step - loss: 3.7397 - mae: 1.4265\n",
      "Epoch 8/12\n",
      "201/201 [==============================] - 1s 3ms/step - loss: 2.6216 - mae: 1.1939\n",
      "Epoch 9/12\n",
      "201/201 [==============================] - 1s 3ms/step - loss: 1.9572 - mae: 1.0375\n",
      "Epoch 10/12\n",
      "201/201 [==============================] - 1s 3ms/step - loss: 1.5325 - mae: 0.9247\n",
      "Epoch 11/12\n",
      "201/201 [==============================] - 1s 3ms/step - loss: 1.4314 - mae: 0.9160\n",
      "Epoch 12/12\n",
      "201/201 [==============================] - 1s 3ms/step - loss: 1.0206 - mae: 0.7596\n"
     ]
    },
    {
     "data": {
      "text/plain": [
       "<tensorflow.python.keras.callbacks.History at 0x7f3844578a90>"
      ]
     },
     "execution_count": 13,
     "metadata": {},
     "output_type": "execute_result"
    }
   ],
   "source": [
    "# Actually run the training, and then ask a couple questions, \n",
    "# kick back and wait for the answer\n",
    "# This takes a while\n",
    "\n",
    "import tensorflow as tf\n",
    "from tensorflow import keras\n",
    "import numpy as np\n",
    "#import data_creation as dc \n",
    "\n",
    "model = keras.Sequential([\n",
    "    keras.layers.Flatten(input_shape=(2,)),\n",
    "    keras.layers.Dense(200, activation=tf.nn.relu),\n",
    "    keras.layers.Dense(600, activation=tf.nn.relu),\n",
    "    keras.layers.Dense(200, activation=tf.nn.relu),\n",
    "    keras.layers.Dense(1)\n",
    "])\n",
    "\n",
    "model.compile(optimizer='adam', \n",
    "              loss='mse',\n",
    "              metrics=['mae'])\n",
    "\n",
    "model.fit(trainx_data, trainx_targets, epochs=12\n",
    "          , batch_size=50)\n",
    "\n"
   ]
  },
  {
   "cell_type": "markdown",
   "metadata": {},
   "source": [
    "## Now check the model's algorithm against some known values"
   ]
  },
  {
   "cell_type": "code",
   "execution_count": null,
   "metadata": {},
   "outputs": [],
   "source": [
    "test_loss, test_acc = model.evaluate(testx_data, testx_targets)\n",
    "print('Test accuracy:', test_acc)\n",
    "a= np.array([[2000,3000],\n",
    "             [4,5],\n",
    "             [3,5987],\n",
    "            [12,17]])\n",
    "print(model.predict(a))"
   ]
  },
  {
   "cell_type": "markdown",
   "metadata": {},
   "source": []
  },
  {
   "cell_type": "code",
   "execution_count": null,
   "metadata": {},
   "outputs": [],
   "source": [
    "b= np.array([[38,22],[4,5],[10000.,20000.]])\n",
    "np.set_printoptions(suppress='true',precision=2)   \n",
    "print(model.predict(b))"
   ]
  },
  {
   "cell_type": "code",
   "execution_count": null,
   "metadata": {},
   "outputs": [],
   "source": []
  },
  {
   "cell_type": "code",
   "execution_count": null,
   "metadata": {},
   "outputs": [],
   "source": []
  },
  {
   "cell_type": "code",
   "execution_count": null,
   "metadata": {},
   "outputs": [],
   "source": []
  }
 ],
 "metadata": {
  "kernelspec": {
   "display_name": "Python 3",
   "language": "python",
   "name": "python3"
  },
  "language_info": {
   "codemirror_mode": {
    "name": "ipython",
    "version": 3
   },
   "file_extension": ".py",
   "mimetype": "text/x-python",
   "name": "python",
   "nbconvert_exporter": "python",
   "pygments_lexer": "ipython3",
   "version": "3.6.9"
  }
 },
 "nbformat": 4,
 "nbformat_minor": 2
}
