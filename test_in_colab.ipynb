{
  "nbformat": 4,
  "nbformat_minor": 0,
  "metadata": {
    "colab": {
      "name": "test in colab ",
      "provenance": [],
      "collapsed_sections": [],
      "authorship_tag": "ABX9TyNIsGwTy8EmcesBCiTFVDlP",
      "include_colab_link": true
    },
    "kernelspec": {
      "name": "python3",
      "display_name": "Python 3"
    }
  },
  "cells": [
    {
      "cell_type": "markdown",
      "metadata": {
        "id": "view-in-github",
        "colab_type": "text"
      },
      "source": [
        "<a href=\"https://colab.research.google.com/github/rcanzlovar/Jupyterdocs/blob/master/test_in_colab.ipynb\" target=\"_parent\"><img src=\"https://colab.research.google.com/assets/colab-badge.svg\" alt=\"Open In Colab\"/></a>"
      ]
    },
    {
      "cell_type": "code",
      "metadata": {
        "id": "QoncVFZZAx9S",
        "colab_type": "code",
        "colab": {}
      },
      "source": [
        "this is a test "
      ],
      "execution_count": 0,
      "outputs": []
    },
    {
      "cell_type": "markdown",
      "metadata": {
        "id": "0WXfRpVmBsmP",
        "colab_type": "text"
      },
      "source": [
        "This is a test \n",
        "\n",
        "https://colab.research.google.com/github/rcanzlovar/Jupyterdocs/blob/master/Stock%20Workbook.ipynb\n",
        "\n",
        "address of a github archive:\n",
        "github/rcanzlovar/Jupyterdocs/blob/master/\n",
        "one notebook in particular:\n",
        "\n",
        "\n",
        "\n",
        "\n",
        "\n",
        "\n",
        "\n"
      ]
    }
  ]
}